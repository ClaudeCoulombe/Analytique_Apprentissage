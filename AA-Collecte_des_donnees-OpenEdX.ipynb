{
 "cells": [
  {
   "cell_type": "markdown",
   "metadata": {},
   "source": [
    "# Analytique de l'apprentissage\n",
    "\n",
    "## Collecte et extraction des données \n",
    "\n",
    "## Exemple de la plateforme Open edX"
   ]
  },
  {
   "cell_type": "markdown",
   "metadata": {},
   "source": [
    "Carnet web IPython (Jupyter Notebook) en complément du **«Chapitre 6 – Vers une IENA pilotée par les données » ** du livre : **« Vers une nouvelle ingénierie des environnements numériques d’apprentissage »**, auteurs du chapitre, Claude Coulombe & Valéry Psyché, éditeurs: Josiane Basque, Gilbert Paquette, licence code source libre Apache"
   ]
  },
  {
   "cell_type": "markdown",
   "metadata": {},
   "source": [
    "## Plateforme Open edX\n",
    "\n",
    "Plateforme de cours en ligne ouverts et massifs CLOM (en anglais MOOC: massive open online course) \n",
    "\n",
    "https://open.edx.org/about-open-edx/"
   ]
  },
  {
   "cell_type": "markdown",
   "metadata": {},
   "source": [
    "## La collecte des données\n",
    "\n",
    "La première étape du travail d’analytique est la collecte des données.\n",
    "\n",
    "Comme exemple, nous collecterons les réponses de la question 3 du questionnaire socio-démogaphique. À la question « Dans quel pays habitez-vous ? », l’apprenant sélectionnait sa réponse dans un menu déroulant qui était mémorisée dans la base de données.\n",
    "\n",
    "Ci-dessous une requête SQL pour collecter les données brutes sur la question 3 et les sauvegarder dans un fichier `IHPQ_Profil_Q3_brut.csv`. Le choix du format `.csv`, signifiant 'Comma Separated Value', est très pratique car compatible avec la plupert des outils de l'écosystème Python pour la science des données. \n",
    "\n",
    "La structure de données contenant la réponse pour la question 3 est mémorisée dans le champ « state » pour chaque apprenant «student_id» du module identifié (`module_id`) par ` i4x://TELUQ/TUL2/problem/0704643ff2e943dbae4bffcae0bb7d82`.\n",
    "\n",
    "**Note**: Le code SQL est donné à titre indicatif mais ne fonctionne pas dans ce carnet Python."
   ]
  },
  {
   "cell_type": "markdown",
   "metadata": {},
   "source": [
    "```SQL\n",
    "SELECT \n",
    "    edxapp.courseware_studentmodule.student_id, \n",
    "    edxapp.courseware_studentmodule.module_id, \n",
    "    edxapp.courseware_studentmodule.state\n",
    "FROM \n",
    "    edxapp.courseware_studentmodule \n",
    "WHERE\n",
    "    edxapp.courseware_studentmodule.module_id=     \n",
    "        \"i4x://TELUQ/TUL2/problem/0704643ff2e943dbae4bffcae0bb7d82\" \n",
    "INTO OUTFILE \n",
    "    '/home/data_usagers/IHPQ_Profil_Q3_brut.csv' \n",
    "FIELDS TERMINATED BY ';' ENCLOSED BY '\"' LINES TERMINATED BY '\\n' ;\n",
    "```"
   ]
  },
  {
   "cell_type": "markdown",
   "metadata": {},
   "source": [
    "Nous avons délibérément choisi de limiter l’utilisation du SQL à la collecte des données brutes et à leur sauvegarde dans des fichiers tabulaires."
   ]
  },
  {
   "cell_type": "markdown",
   "metadata": {},
   "source": [
    "## Le prétraitement des données\n",
    "\n",
    "Tous les traitements subséquents (ou prétraitements) seront effectués en Python dans une console ou dans des carnets Jupyter iPython pratiques. Ce choix a été motivé par la plus grande souplesse des outils Python et par une meilleure maîtrise des outils Python que des outils SQL.\n",
    "\n",
    "Ces traitements impliqueront la manipulation de tableaux de données appelés « DataFrames » avec les outils de la bibliothèque Pandas qui est utilisée pour le pré-traitement et la manipulation des données [McKinney, 2010].  "
   ]
  },
  {
   "cell_type": "markdown",
   "metadata": {
    "collapsed": true
   },
   "source": [
    "### Lecture et chargement des données brutes :\n",
    "Commençons par charger les données du fichier des données brutes, `IHPQ_Profil_Q3_Brut.csv` dans un tableau de données Pandas (dataframe) `IHPQ_Profil_Q3_DF`."
   ]
  },
  {
   "cell_type": "code",
   "execution_count": 24,
   "metadata": {},
   "outputs": [],
   "source": [
    "import pandas as pd\n",
    "path_to_datafile = \"AA_data/\""
   ]
  },
  {
   "cell_type": "code",
   "execution_count": 25,
   "metadata": {},
   "outputs": [],
   "source": [
    "IHPQ_Profil_Q3_DF = pd.read_csv (path_to_datafile+\"IHPQ_Profil_Q3_Brut.csv\", \n",
    "                                delimiter=\",\",\n",
    "                                na_values=[\"\"],\n",
    "                                encoding='utf-8')"
   ]
  },
  {
   "cell_type": "markdown",
   "metadata": {},
   "source": [
    "L'opération de lecture `pd.read_csv(...)` retourne `IHPQ_Profil_Q3_DF`, un Dataframe ou tableau de données analogue à une feuille de tableur où chaque ligne représente un exemplaire de données (observations ou exemples) et chaque colonne représente la valeur d'un attribut (ou caractéristique). \n",
    "\n",
    "Avec la commande `.head()` demandons à Pandas d'afficher les cinq premières lignes du tableau de données `IHPQ_Profil_Q3_DF` en configurant Pandas pour afficher jusqu’à 1000 caractères par champ ou colonne."
   ]
  },
  {
   "cell_type": "code",
   "execution_count": 26,
   "metadata": {},
   "outputs": [
    {
     "data": {
      "text/html": [
       "<div>\n",
       "<style scoped>\n",
       "    .dataframe tbody tr th:only-of-type {\n",
       "        vertical-align: middle;\n",
       "    }\n",
       "\n",
       "    .dataframe tbody tr th {\n",
       "        vertical-align: top;\n",
       "    }\n",
       "\n",
       "    .dataframe thead th {\n",
       "        text-align: right;\n",
       "    }\n",
       "</style>\n",
       "<table border=\"1\" class=\"dataframe\">\n",
       "  <thead>\n",
       "    <tr style=\"text-align: right;\">\n",
       "      <th></th>\n",
       "      <th>student_id</th>\n",
       "      <th>module_id</th>\n",
       "      <th>state</th>\n",
       "    </tr>\n",
       "  </thead>\n",
       "  <tbody>\n",
       "    <tr>\n",
       "      <th>0</th>\n",
       "      <td>13</td>\n",
       "      <td>i4x://TELUQ/TUL2/problem/0704643ff2e943dbae4bffcae0bb7d82</td>\n",
       "      <td>{\"correct_map\": {}, \"seed\": 1, \"done\": null, \"input_state\": {\"i4x-TELUQ-TUL2-problem-0704643ff2e943dbae4bffcae0bb7d82_2_1\": {}}, \"student_answers\": {\"i4x-TELUQ-TUL2-problem-0704643ff2e943dbae4bffcae0bb7d82_2_1\": \"Canada - Qc\"}}</td>\n",
       "    </tr>\n",
       "    <tr>\n",
       "      <th>1</th>\n",
       "      <td>4818</td>\n",
       "      <td>i4x://TELUQ/TUL2/problem/0704643ff2e943dbae4bffcae0bb7d82</td>\n",
       "      <td>{\"correct_map\": {}, \"seed\": 1, \"done\": null, \"student_answers\": {\"i4x-TELUQ-TUL2-problem-0704643ff2e943dbae4bffcae0bb7d82_2_1\": \"Ha\\u00efti\"}, \"input_state\": {\"i4x-TELUQ-TUL2-problem-0704643ff2e943dbae4bffcae0bb7d82_2_1\": {}}}</td>\n",
       "    </tr>\n",
       "    <tr>\n",
       "      <th>2</th>\n",
       "      <td>3535</td>\n",
       "      <td>i4x://TELUQ/TUL2/problem/0704643ff2e943dbae4bffcae0bb7d82</td>\n",
       "      <td>{\"correct_map\": {}, \"student_answers\": {\"i4x-TELUQ-TUL2-problem-0704643ff2e943dbae4bffcae0bb7d82_2_1\": \"\\u00c9tats-Unis\"}, \"seed\": 1, \"done\": null, \"input_state\": {\"i4x-TELUQ-TUL2-problem-0704643ff2e943dbae4bffcae0bb7d82_2_1\": {}}}</td>\n",
       "    </tr>\n",
       "    <tr>\n",
       "      <th>3</th>\n",
       "      <td>1044</td>\n",
       "      <td>i4x://TELUQ/TUL2/problem/0704643ff2e943dbae4bffcae0bb7d82</td>\n",
       "      <td>{\"correct_map\": {}, \"seed\": 1, \"done\": null, \"input_state\": {\"i4x-TELUQ-TUL2-problem-0704643ff2e943dbae4bffcae0bb7d82_2_1\": {}}, \"student_answers\": {\"i4x-TELUQ-TUL2-problem-0704643ff2e943dbae4bffcae0bb7d82_2_1\": \"France\"}}</td>\n",
       "    </tr>\n",
       "    <tr>\n",
       "      <th>4</th>\n",
       "      <td>3977</td>\n",
       "      <td>i4x://TELUQ/TUL2/problem/0704643ff2e943dbae4bffcae0bb7d82</td>\n",
       "      <td>{\"correct_map\": {}, \"seed\": 1, \"done\": null, \"input_state\": {\"i4x-TELUQ-TUL2-problem-0704643ff2e943dbae4bffcae0bb7d82_2_1\": {}}, \"student_answers\": {\"i4x-TELUQ-TUL2-problem-0704643ff2e943dbae4bffcae0bb7d82_2_1\": \"Canada - Qc\"}}</td>\n",
       "    </tr>\n",
       "  </tbody>\n",
       "</table>\n",
       "</div>"
      ],
      "text/plain": [
       "   student_id                                                  module_id  \\\n",
       "0          13  i4x://TELUQ/TUL2/problem/0704643ff2e943dbae4bffcae0bb7d82   \n",
       "1        4818  i4x://TELUQ/TUL2/problem/0704643ff2e943dbae4bffcae0bb7d82   \n",
       "2        3535  i4x://TELUQ/TUL2/problem/0704643ff2e943dbae4bffcae0bb7d82   \n",
       "3        1044  i4x://TELUQ/TUL2/problem/0704643ff2e943dbae4bffcae0bb7d82   \n",
       "4        3977  i4x://TELUQ/TUL2/problem/0704643ff2e943dbae4bffcae0bb7d82   \n",
       "\n",
       "                                                                                                                                                                                                                                     state  \n",
       "0      {\"correct_map\": {}, \"seed\": 1, \"done\": null, \"input_state\": {\"i4x-TELUQ-TUL2-problem-0704643ff2e943dbae4bffcae0bb7d82_2_1\": {}}, \"student_answers\": {\"i4x-TELUQ-TUL2-problem-0704643ff2e943dbae4bffcae0bb7d82_2_1\": \"Canada - Qc\"}}  \n",
       "1       {\"correct_map\": {}, \"seed\": 1, \"done\": null, \"student_answers\": {\"i4x-TELUQ-TUL2-problem-0704643ff2e943dbae4bffcae0bb7d82_2_1\": \"Ha\\u00efti\"}, \"input_state\": {\"i4x-TELUQ-TUL2-problem-0704643ff2e943dbae4bffcae0bb7d82_2_1\": {}}}  \n",
       "2  {\"correct_map\": {}, \"student_answers\": {\"i4x-TELUQ-TUL2-problem-0704643ff2e943dbae4bffcae0bb7d82_2_1\": \"\\u00c9tats-Unis\"}, \"seed\": 1, \"done\": null, \"input_state\": {\"i4x-TELUQ-TUL2-problem-0704643ff2e943dbae4bffcae0bb7d82_2_1\": {}}}  \n",
       "3           {\"correct_map\": {}, \"seed\": 1, \"done\": null, \"input_state\": {\"i4x-TELUQ-TUL2-problem-0704643ff2e943dbae4bffcae0bb7d82_2_1\": {}}, \"student_answers\": {\"i4x-TELUQ-TUL2-problem-0704643ff2e943dbae4bffcae0bb7d82_2_1\": \"France\"}}  \n",
       "4      {\"correct_map\": {}, \"seed\": 1, \"done\": null, \"input_state\": {\"i4x-TELUQ-TUL2-problem-0704643ff2e943dbae4bffcae0bb7d82_2_1\": {}}, \"student_answers\": {\"i4x-TELUQ-TUL2-problem-0704643ff2e943dbae4bffcae0bb7d82_2_1\": \"Canada - Qc\"}}  "
      ]
     },
     "execution_count": 26,
     "metadata": {},
     "output_type": "execute_result"
    }
   ],
   "source": [
    "pd.options.display.max_colwidth = 1000\n",
    "IHPQ_Profil_Q3_DF.head ()"
   ]
  },
  {
   "cell_type": "markdown",
   "metadata": {},
   "source": [
    "#### Modification / uniformisation des données avec une expression régulière (caractères accentués)\n",
    "\n",
    "Nous remarquons problème d’encodage dans les noms de pays, par exemple « Haïti » est encodé « Ha\\u00efti » ce qui sera facilement corrigé en appliquant une petite fonction de correction à chaque cellule `'state'`. "
   ]
  },
  {
   "cell_type": "code",
   "execution_count": 27,
   "metadata": {},
   "outputs": [
    {
     "data": {
      "text/html": [
       "<div>\n",
       "<style scoped>\n",
       "    .dataframe tbody tr th:only-of-type {\n",
       "        vertical-align: middle;\n",
       "    }\n",
       "\n",
       "    .dataframe tbody tr th {\n",
       "        vertical-align: top;\n",
       "    }\n",
       "\n",
       "    .dataframe thead th {\n",
       "        text-align: right;\n",
       "    }\n",
       "</style>\n",
       "<table border=\"1\" class=\"dataframe\">\n",
       "  <thead>\n",
       "    <tr style=\"text-align: right;\">\n",
       "      <th></th>\n",
       "      <th>student_id</th>\n",
       "      <th>module_id</th>\n",
       "      <th>state</th>\n",
       "    </tr>\n",
       "  </thead>\n",
       "  <tbody>\n",
       "    <tr>\n",
       "      <th>0</th>\n",
       "      <td>13</td>\n",
       "      <td>i4x://TELUQ/TUL2/problem/0704643ff2e943dbae4bffcae0bb7d82</td>\n",
       "      <td>{\"correct_map\": {}, \"seed\": 1, \"done\": null, \"input_state\": {\"i4x-TELUQ-TUL2-problem-0704643ff2e943dbae4bffcae0bb7d82_2_1\": {}}, \"student_answers\": {\"i4x-TELUQ-TUL2-problem-0704643ff2e943dbae4bffcae0bb7d82_2_1\": \"Canada - Qc\"}}</td>\n",
       "    </tr>\n",
       "    <tr>\n",
       "      <th>1</th>\n",
       "      <td>4818</td>\n",
       "      <td>i4x://TELUQ/TUL2/problem/0704643ff2e943dbae4bffcae0bb7d82</td>\n",
       "      <td>{\"correct_map\": {}, \"seed\": 1, \"done\": null, \"student_answers\": {\"i4x-TELUQ-TUL2-problem-0704643ff2e943dbae4bffcae0bb7d82_2_1\": \"Haïti\"}, \"input_state\": {\"i4x-TELUQ-TUL2-problem-0704643ff2e943dbae4bffcae0bb7d82_2_1\": {}}}</td>\n",
       "    </tr>\n",
       "    <tr>\n",
       "      <th>2</th>\n",
       "      <td>3535</td>\n",
       "      <td>i4x://TELUQ/TUL2/problem/0704643ff2e943dbae4bffcae0bb7d82</td>\n",
       "      <td>{\"correct_map\": {}, \"student_answers\": {\"i4x-TELUQ-TUL2-problem-0704643ff2e943dbae4bffcae0bb7d82_2_1\": \"États-Unis\"}, \"seed\": 1, \"done\": null, \"input_state\": {\"i4x-TELUQ-TUL2-problem-0704643ff2e943dbae4bffcae0bb7d82_2_1\": {}}}</td>\n",
       "    </tr>\n",
       "    <tr>\n",
       "      <th>3</th>\n",
       "      <td>1044</td>\n",
       "      <td>i4x://TELUQ/TUL2/problem/0704643ff2e943dbae4bffcae0bb7d82</td>\n",
       "      <td>{\"correct_map\": {}, \"seed\": 1, \"done\": null, \"input_state\": {\"i4x-TELUQ-TUL2-problem-0704643ff2e943dbae4bffcae0bb7d82_2_1\": {}}, \"student_answers\": {\"i4x-TELUQ-TUL2-problem-0704643ff2e943dbae4bffcae0bb7d82_2_1\": \"France\"}}</td>\n",
       "    </tr>\n",
       "    <tr>\n",
       "      <th>4</th>\n",
       "      <td>3977</td>\n",
       "      <td>i4x://TELUQ/TUL2/problem/0704643ff2e943dbae4bffcae0bb7d82</td>\n",
       "      <td>{\"correct_map\": {}, \"seed\": 1, \"done\": null, \"input_state\": {\"i4x-TELUQ-TUL2-problem-0704643ff2e943dbae4bffcae0bb7d82_2_1\": {}}, \"student_answers\": {\"i4x-TELUQ-TUL2-problem-0704643ff2e943dbae4bffcae0bb7d82_2_1\": \"Canada - Qc\"}}</td>\n",
       "    </tr>\n",
       "  </tbody>\n",
       "</table>\n",
       "</div>"
      ],
      "text/plain": [
       "   student_id                                                  module_id  \\\n",
       "0          13  i4x://TELUQ/TUL2/problem/0704643ff2e943dbae4bffcae0bb7d82   \n",
       "1        4818  i4x://TELUQ/TUL2/problem/0704643ff2e943dbae4bffcae0bb7d82   \n",
       "2        3535  i4x://TELUQ/TUL2/problem/0704643ff2e943dbae4bffcae0bb7d82   \n",
       "3        1044  i4x://TELUQ/TUL2/problem/0704643ff2e943dbae4bffcae0bb7d82   \n",
       "4        3977  i4x://TELUQ/TUL2/problem/0704643ff2e943dbae4bffcae0bb7d82   \n",
       "\n",
       "                                                                                                                                                                                                                                 state  \n",
       "0  {\"correct_map\": {}, \"seed\": 1, \"done\": null, \"input_state\": {\"i4x-TELUQ-TUL2-problem-0704643ff2e943dbae4bffcae0bb7d82_2_1\": {}}, \"student_answers\": {\"i4x-TELUQ-TUL2-problem-0704643ff2e943dbae4bffcae0bb7d82_2_1\": \"Canada - Qc\"}}  \n",
       "1        {\"correct_map\": {}, \"seed\": 1, \"done\": null, \"student_answers\": {\"i4x-TELUQ-TUL2-problem-0704643ff2e943dbae4bffcae0bb7d82_2_1\": \"Haïti\"}, \"input_state\": {\"i4x-TELUQ-TUL2-problem-0704643ff2e943dbae4bffcae0bb7d82_2_1\": {}}}  \n",
       "2   {\"correct_map\": {}, \"student_answers\": {\"i4x-TELUQ-TUL2-problem-0704643ff2e943dbae4bffcae0bb7d82_2_1\": \"États-Unis\"}, \"seed\": 1, \"done\": null, \"input_state\": {\"i4x-TELUQ-TUL2-problem-0704643ff2e943dbae4bffcae0bb7d82_2_1\": {}}}  \n",
       "3       {\"correct_map\": {}, \"seed\": 1, \"done\": null, \"input_state\": {\"i4x-TELUQ-TUL2-problem-0704643ff2e943dbae4bffcae0bb7d82_2_1\": {}}, \"student_answers\": {\"i4x-TELUQ-TUL2-problem-0704643ff2e943dbae4bffcae0bb7d82_2_1\": \"France\"}}  \n",
       "4  {\"correct_map\": {}, \"seed\": 1, \"done\": null, \"input_state\": {\"i4x-TELUQ-TUL2-problem-0704643ff2e943dbae4bffcae0bb7d82_2_1\": {}}, \"student_answers\": {\"i4x-TELUQ-TUL2-problem-0704643ff2e943dbae4bffcae0bb7d82_2_1\": \"Canada - Qc\"}}  "
      ]
     },
     "execution_count": 27,
     "metadata": {},
     "output_type": "execute_result"
    }
   ],
   "source": [
    "IHPQ_Profil_Q3_DF['state'] = IHPQ_Profil_Q3_DF['state'].apply(lambda text: text.replace(\"\\\\/\", \"/\").encode().decode('unicode_escape')  if type(text) is str  else text)\n",
    "IHPQ_Profil_Q3_DF.head()"
   ]
  },
  {
   "cell_type": "markdown",
   "metadata": {},
   "source": [
    "### Extraction d'un attribut au moyen d'une expression régulière\n",
    "\n",
    "L’étape suivante est l’extraction du nom du pays de la chaîne de caractères contenue dans la colonne « “state” ».\n",
    "du tableau de données (dataframe), nous utiliserons une expression régulière. Une expression régulière est un formalisme qui décrit la forme générale d’une chaîne de caractères. Une expression régulière est utilisée pour rechercher des chaînes de caractères de même forme dans un texte. Une fois les chaînes trouvées, on peut leur appliquer un traitement, comme un ajout, une modification ou une suppression [WIKIPÉDIA, Regular expression]. \n",
    "\n",
    "Une expression régulière est un formalisme qui décrit la forme générale d’une chaîne de caractères. Une expression régulière est utilisée pour rechercher des chaînes de caractères de même forme dans un texte. Une fois les chaînes trouvées, on peut leur appliquer un traitement, comme un ajout, une modification ou une suppression [WIKIPÉDIA, Regular expression]. \n",
    "\n",
    "Le résultat de l’extraction des différentes valeurs est affecté dans la nouvelle colonne « “pays” » du tableau des données « IHPQ_Profil_Q3_DF ». Cette colonne du tableau de données représente les différentes valeurs l’attribut « “pays” ».\n"
   ]
  },
  {
   "cell_type": "code",
   "execution_count": 28,
   "metadata": {},
   "outputs": [
    {
     "data": {
      "text/html": [
       "<div>\n",
       "<style scoped>\n",
       "    .dataframe tbody tr th:only-of-type {\n",
       "        vertical-align: middle;\n",
       "    }\n",
       "\n",
       "    .dataframe tbody tr th {\n",
       "        vertical-align: top;\n",
       "    }\n",
       "\n",
       "    .dataframe thead th {\n",
       "        text-align: right;\n",
       "    }\n",
       "</style>\n",
       "<table border=\"1\" class=\"dataframe\">\n",
       "  <thead>\n",
       "    <tr style=\"text-align: right;\">\n",
       "      <th></th>\n",
       "      <th>student_id</th>\n",
       "      <th>module_id</th>\n",
       "      <th>state</th>\n",
       "      <th>pays</th>\n",
       "    </tr>\n",
       "  </thead>\n",
       "  <tbody>\n",
       "    <tr>\n",
       "      <th>0</th>\n",
       "      <td>13</td>\n",
       "      <td>i4x://TELUQ/TUL2/problem/0704643ff2e943dbae4bffcae0bb7d82</td>\n",
       "      <td>{\"correct_map\": {}, \"seed\": 1, \"done\": null, \"input_state\": {\"i4x-TELUQ-TUL2-problem-0704643ff2e943dbae4bffcae0bb7d82_2_1\": {}}, \"student_answers\": {\"i4x-TELUQ-TUL2-problem-0704643ff2e943dbae4bffcae0bb7d82_2_1\": \"Canada - Qc\"}}</td>\n",
       "      <td>Canada - Qc</td>\n",
       "    </tr>\n",
       "    <tr>\n",
       "      <th>1</th>\n",
       "      <td>4818</td>\n",
       "      <td>i4x://TELUQ/TUL2/problem/0704643ff2e943dbae4bffcae0bb7d82</td>\n",
       "      <td>{\"correct_map\": {}, \"seed\": 1, \"done\": null, \"student_answers\": {\"i4x-TELUQ-TUL2-problem-0704643ff2e943dbae4bffcae0bb7d82_2_1\": \"Haïti\"}, \"input_state\": {\"i4x-TELUQ-TUL2-problem-0704643ff2e943dbae4bffcae0bb7d82_2_1\": {}}}</td>\n",
       "      <td>Haïti</td>\n",
       "    </tr>\n",
       "    <tr>\n",
       "      <th>2</th>\n",
       "      <td>3535</td>\n",
       "      <td>i4x://TELUQ/TUL2/problem/0704643ff2e943dbae4bffcae0bb7d82</td>\n",
       "      <td>{\"correct_map\": {}, \"student_answers\": {\"i4x-TELUQ-TUL2-problem-0704643ff2e943dbae4bffcae0bb7d82_2_1\": \"États-Unis\"}, \"seed\": 1, \"done\": null, \"input_state\": {\"i4x-TELUQ-TUL2-problem-0704643ff2e943dbae4bffcae0bb7d82_2_1\": {}}}</td>\n",
       "      <td>États-Unis</td>\n",
       "    </tr>\n",
       "    <tr>\n",
       "      <th>3</th>\n",
       "      <td>1044</td>\n",
       "      <td>i4x://TELUQ/TUL2/problem/0704643ff2e943dbae4bffcae0bb7d82</td>\n",
       "      <td>{\"correct_map\": {}, \"seed\": 1, \"done\": null, \"input_state\": {\"i4x-TELUQ-TUL2-problem-0704643ff2e943dbae4bffcae0bb7d82_2_1\": {}}, \"student_answers\": {\"i4x-TELUQ-TUL2-problem-0704643ff2e943dbae4bffcae0bb7d82_2_1\": \"France\"}}</td>\n",
       "      <td>France</td>\n",
       "    </tr>\n",
       "    <tr>\n",
       "      <th>4</th>\n",
       "      <td>3977</td>\n",
       "      <td>i4x://TELUQ/TUL2/problem/0704643ff2e943dbae4bffcae0bb7d82</td>\n",
       "      <td>{\"correct_map\": {}, \"seed\": 1, \"done\": null, \"input_state\": {\"i4x-TELUQ-TUL2-problem-0704643ff2e943dbae4bffcae0bb7d82_2_1\": {}}, \"student_answers\": {\"i4x-TELUQ-TUL2-problem-0704643ff2e943dbae4bffcae0bb7d82_2_1\": \"Canada - Qc\"}}</td>\n",
       "      <td>Canada - Qc</td>\n",
       "    </tr>\n",
       "  </tbody>\n",
       "</table>\n",
       "</div>"
      ],
      "text/plain": [
       "   student_id                                                  module_id  \\\n",
       "0          13  i4x://TELUQ/TUL2/problem/0704643ff2e943dbae4bffcae0bb7d82   \n",
       "1        4818  i4x://TELUQ/TUL2/problem/0704643ff2e943dbae4bffcae0bb7d82   \n",
       "2        3535  i4x://TELUQ/TUL2/problem/0704643ff2e943dbae4bffcae0bb7d82   \n",
       "3        1044  i4x://TELUQ/TUL2/problem/0704643ff2e943dbae4bffcae0bb7d82   \n",
       "4        3977  i4x://TELUQ/TUL2/problem/0704643ff2e943dbae4bffcae0bb7d82   \n",
       "\n",
       "                                                                                                                                                                                                                                 state  \\\n",
       "0  {\"correct_map\": {}, \"seed\": 1, \"done\": null, \"input_state\": {\"i4x-TELUQ-TUL2-problem-0704643ff2e943dbae4bffcae0bb7d82_2_1\": {}}, \"student_answers\": {\"i4x-TELUQ-TUL2-problem-0704643ff2e943dbae4bffcae0bb7d82_2_1\": \"Canada - Qc\"}}   \n",
       "1        {\"correct_map\": {}, \"seed\": 1, \"done\": null, \"student_answers\": {\"i4x-TELUQ-TUL2-problem-0704643ff2e943dbae4bffcae0bb7d82_2_1\": \"Haïti\"}, \"input_state\": {\"i4x-TELUQ-TUL2-problem-0704643ff2e943dbae4bffcae0bb7d82_2_1\": {}}}   \n",
       "2   {\"correct_map\": {}, \"student_answers\": {\"i4x-TELUQ-TUL2-problem-0704643ff2e943dbae4bffcae0bb7d82_2_1\": \"États-Unis\"}, \"seed\": 1, \"done\": null, \"input_state\": {\"i4x-TELUQ-TUL2-problem-0704643ff2e943dbae4bffcae0bb7d82_2_1\": {}}}   \n",
       "3       {\"correct_map\": {}, \"seed\": 1, \"done\": null, \"input_state\": {\"i4x-TELUQ-TUL2-problem-0704643ff2e943dbae4bffcae0bb7d82_2_1\": {}}, \"student_answers\": {\"i4x-TELUQ-TUL2-problem-0704643ff2e943dbae4bffcae0bb7d82_2_1\": \"France\"}}   \n",
       "4  {\"correct_map\": {}, \"seed\": 1, \"done\": null, \"input_state\": {\"i4x-TELUQ-TUL2-problem-0704643ff2e943dbae4bffcae0bb7d82_2_1\": {}}, \"student_answers\": {\"i4x-TELUQ-TUL2-problem-0704643ff2e943dbae4bffcae0bb7d82_2_1\": \"Canada - Qc\"}}   \n",
       "\n",
       "          pays  \n",
       "0  Canada - Qc  \n",
       "1        Haïti  \n",
       "2   États-Unis  \n",
       "3       France  \n",
       "4  Canada - Qc  "
      ]
     },
     "execution_count": 28,
     "metadata": {},
     "output_type": "execute_result"
    }
   ],
   "source": [
    "IHPQ_Profil_Q3_DF['pays'] = IHPQ_Profil_Q3_DF['state'].str.extract('\\\":\\s*\\\"([A-Za-ü\\s*\\-\\.\\s*]*)\\\"')\n",
    "IHPQ_Profil_Q3_DF.head()"
   ]
  },
  {
   "cell_type": "code",
   "execution_count": 29,
   "metadata": {
    "scrolled": false
   },
   "outputs": [
    {
     "data": {
      "text/plain": [
       "0    Canada - Qc\n",
       "1          Haïti\n",
       "2     États-Unis\n",
       "3         France\n",
       "4    Canada - Qc\n",
       "Name: pays, dtype: object"
      ]
     },
     "execution_count": 29,
     "metadata": {},
     "output_type": "execute_result"
    }
   ],
   "source": [
    "IHPQ_Profil_Q3_DF[\"pays\"].head()"
   ]
  },
  {
   "cell_type": "markdown",
   "metadata": {
    "collapsed": true
   },
   "source": [
    "## Ressources utiles\n",
    "\n",
    "1) StackOverflow - https://stackoverflow.com\n",
    "\n",
    "2) Pandas -https://pandas.pydata.org/pandas-docs/stable/getting_started/tutorials.html\n",
    "\n",
    "3) Expressions régulières - http://regex101.com/ - https://www.regular-expressions.info/tutorial.html\n",
    "\n",
    "4) Matplotlib - https://matplotlib.org/3.1.1/tutorials/index.html\n",
    "\n"
   ]
  },
  {
   "cell_type": "code",
   "execution_count": null,
   "metadata": {
    "collapsed": true
   },
   "outputs": [],
   "source": []
  }
 ],
 "metadata": {
  "kernelspec": {
   "display_name": "Python 3",
   "language": "python",
   "name": "python3"
  },
  "language_info": {
   "codemirror_mode": {
    "name": "ipython",
    "version": 3
   },
   "file_extension": ".py",
   "mimetype": "text/x-python",
   "name": "python",
   "nbconvert_exporter": "python",
   "pygments_lexer": "ipython3",
   "version": "3.6.5"
  }
 },
 "nbformat": 4,
 "nbformat_minor": 2
}
