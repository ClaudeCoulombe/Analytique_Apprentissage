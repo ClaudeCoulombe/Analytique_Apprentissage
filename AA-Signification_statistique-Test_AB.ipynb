{
 "cells": [
  {
   "cell_type": "markdown",
   "metadata": {},
   "source": [
    "# Analytique de l'apprentissage\n",
    "\n",
    "# Signification statistique\n",
    "\n",
    "## Test A/B"
   ]
  },
  {
   "cell_type": "markdown",
   "metadata": {},
   "source": [
    "Carnet web IPython (Jupyter Notebook) en complément du **«Chapitre 6 – Vers une IENA pilotée par les données » ** du livre : **« Vers une nouvelle ingénierie des environnements numériques d’apprentissage »**, auteurs du chapitre, Claude Coulombe & Valéry Psyché, éditeurs: Josiane Basque, Gilbert Paquette, licence code source libre MIT"
   ]
  },
  {
   "cell_type": "markdown",
   "metadata": {},
   "source": [
    "## Amélioration des contenus d'un cours grâce au test A/B\n",
    "\n",
    "Le test A/B est une méthode statistique qui permet de comparer des expériences afin de choisir celle qui donne de meilleurs résultats sur une base statistiquement valide en considérant un grand nombre d’expériences. Originalement, le test A/B a été conçu pour mesurer l’impact des changements apportés à un site web. Au moyen d’un tirage aléatoire on crée un groupe contrôle d’usagers qui est associé au site web actuel A et un autre groupe d’usagers qui est associé au site web modifié B. \n",
    "\n",
    "Dépendant de la métrique utilisée (moyenne à un test, nombre de clics, etc.) et de la distribution statistique présumée (normale, binomiale, etc.) on appliquera un test statistique pour déterminer si une différence mesurée est statistiquement significative ou peut être simplement expliquée par le fruit du hasard. \n",
    "\n",
    "Pratiquement, il faut laisser un temps suffisant et égal d’interaction aux deux groupes avec les versions A et B. Aussi, pour faciliter l’identification de changements significatifs, on limitera le nombre de changements quitte à faire de nouveaux tests sur la base d’autres petits changements et ainsi de suite.\n",
    "\n",
    "## Test de signification statistique\n",
    "\n",
    "Pour déterminer si l’écart observé entre les moyennes des mesures est statistiquement significatif, nous utilisons un test de signification statistique [WIKIPÉDIA, Statistical significance]. Plus précisément, nous utilisons un test conçu pour comparer des moyennes, le test de signification statistique de Student ou test T de Student [WIKIPÉDIA, Student’s t-test]. Le test T de Student mesure si les valeurs moyennes (espérées) diffèrent significativement d’un échantillon à l’autre."
   ]
  },
  {
   "cell_type": "markdown",
   "metadata": {},
   "source": [
    "### Utilisation des bibliothèques Python Pandas (manipulation des données), numpy (calcul numérique), statistiques (scipy) et matplotlib (affichage graphique)"
   ]
  },
  {
   "cell_type": "code",
   "execution_count": 9,
   "metadata": {},
   "outputs": [],
   "source": [
    "# -*- coding: utf-8 -*-\n",
    "\n",
    "import pandas as pd\n",
    "import numpy as np\n",
    "import scipy.stats\n",
    "from matplotlib import pyplot as plt"
   ]
  },
  {
   "cell_type": "markdown",
   "metadata": {},
   "source": [
    "## Test de signification statistique - moyenne\n",
    "\n",
    "L’objectif est de comparer la moyenne des résultats entre l’expérience de contrôle A avec la moyenne des résultats de l’expérience B afin de déterminer si la différence observée est statistiquement significative. Il faut s’assurer que la différence que nous avons observée n’est pas le fruit du hasard.\n",
    "\n",
    "Nous faisons l’hypothèse que les deux mesures sont distribuées selon des lois normales et pour les variances, nous faisons l’hypothèse que les variances sont différentes (test T de Welch) [WIKIPÉDIA, Welch’s t-test]. \n",
    "\n",
    "Nous désirons comparer les deux distributions en partant de l’hypothèse nulle H0 que les deux échantillons sont issus d’une même distribution et que la moyenne des résultats de l’expérience de contrôle A est la même que la moyenne de l’expérience B.  Le cas échéant, la différence sera considérée comme statistiquement significative. Le signe du résultat du test t_score indique si la moyenne des résultats pour les données de l’expérience B est supérieure à la moyenne de l’expérience de contrôle A et p_score indique le degré de signification. \n"
   ]
  },
  {
   "cell_type": "code",
   "execution_count": 10,
   "metadata": {},
   "outputs": [],
   "source": [
    "# Inspiré de https://rosettacode.org/wiki/Welch%27s_t-test#Using_NumPy_.26_SciPy\n",
    "# Statistical Significance Tests\n",
    "\n",
    "def Welch_Ttest(taille_A, taille_B, moyenne_A, moyenne_B, var_A, var_B):\n",
    "    print(\"*** Test T de Welch ***\")\n",
    "    signifiant = False\n",
    "    alpha = 0.05\n",
    "    moyenne_B_sup = True\n",
    "    print('Moyenne A = ',moyenne_A)\n",
    "    print('Moyenne B = ',moyenne_B)\n",
    "    if moyenne_B >= moyenne_A:\n",
    "        print(\"Hypothèse que la moyenne B est supérieure à la moyenne A\") \n",
    "    else:\n",
    "        print(\"Hypothèse que la moyenne B est inférieure à la moyenne A\") \n",
    "        moyenne_B_sup=False\n",
    "    t_score = (moyenne_B - moyenne_A)/np.sqrt(var_A/taille_A + var_B/taille_B)\n",
    "    df = (var_A/taille_A + var_B/taille_B)**2 / (var_A**2/(taille_A**2 * (taille_A - 1)) + var_B**2 / (taille_B**2 * (taille_B - 1)))\n",
    "    print(\"df = \" + str(df))\n",
    "    p_value = 2 * scipy.stats.t.cdf(-abs(t_score), df)\n",
    "    print(\"t = \" + str(t_score))\n",
    "    print(\"p = \" + str(p_value))\n",
    "    if moyenne_B_sup:\n",
    "        if (t_score > 0) and ((p_value/2) < alpha):\n",
    "            print(\"*** La différence EST statistiquement significative. ***\")\n",
    "            signifiant = True\n",
    "        else:\n",
    "            print(\"*** La différence N'EST PAS statistiquement significative. ***\")\n",
    "    else:\n",
    "        if (t_score < 0) and ((p_value/2) < alpha):\n",
    "            print(\"*** La différence EST statistiquement significative. ***\")\n",
    "            signifiant = True\n",
    "        else:\n",
    "            print(\"*** La différence N'EST PAS statistiquement significative. ***\")\n",
    "    return signifiant"
   ]
  },
  {
   "cell_type": "markdown",
   "metadata": {},
   "source": [
    "## Mise en situation\n",
    "Considérons un cours suivi par 200 apprenants dont la moitié est aléatoirement exposé au contenu A et l’autre moitié au contenu B. Le même test est administré à l’ensemble des apprenants pour mesurer leur performance après l’exposition au contenu. La moyenne des résultats pour le groupe A est de 75 alors que la moyenne du groupe B est de 80, les écarts-types respectifs sont de 30 et 40. Peut-on considérer que l’exposition au contenu B a significativement amélioré les résultats ?"
   ]
  },
  {
   "cell_type": "code",
   "execution_count": 11,
   "metadata": {},
   "outputs": [
    {
     "name": "stdout",
     "output_type": "stream",
     "text": [
      "*** Test T de Welch ***\n",
      "Moyenne A =  75\n",
      "Moyenne B =  80\n",
      "Hypothèse que la moyenne B est supérieure à la moyenne A\n",
      "df = 198.0\n",
      "t = 1.1785113019775793\n",
      "p = 0.24000719258136277\n",
      "*** La différence N'EST PAS statistiquement significative. ***\n"
     ]
    },
    {
     "data": {
      "text/plain": [
       "False"
      ]
     },
     "execution_count": 11,
     "metadata": {},
     "output_type": "execute_result"
    }
   ],
   "source": [
    "taille_A = 100\n",
    "moyenne_A = 75\n",
    "var_A = 30**2\n",
    "taille_B = 100\n",
    "moyenne_B = 80\n",
    "var_B = 30**2\n",
    "Welch_Ttest(taille_A, taille_B, moyenne_A, moyenne_B, var_A, var_B)"
   ]
  },
  {
   "cell_type": "markdown",
   "metadata": {},
   "source": [
    "Par contre si nous avions traité des groupes plus nombreux, par exemple des groupes de 500 apprenants, la signification statistique aurait été obtenue.\n"
   ]
  },
  {
   "cell_type": "code",
   "execution_count": 12,
   "metadata": {},
   "outputs": [
    {
     "name": "stdout",
     "output_type": "stream",
     "text": [
      "*** Test T de Welch ***\n",
      "Moyenne A =  75\n",
      "Moyenne B =  80\n",
      "Hypothèse que la moyenne B est supérieure à la moyenne A\n",
      "df = 925.4451038575669\n",
      "t = 2.23606797749979\n",
      "p = 0.025584996125442044\n",
      "*** La différence EST statistiquement significative. ***\n"
     ]
    },
    {
     "data": {
      "text/plain": [
       "True"
      ]
     },
     "execution_count": 12,
     "metadata": {},
     "output_type": "execute_result"
    }
   ],
   "source": [
    "size_A = 500\n",
    "mean_A = 75\n",
    "var_A = 30**2\n",
    "size_B = 500\n",
    "mean_B = 80\n",
    "var_B = 40**2\n",
    "Welch_Ttest(size_A, size_B, mean_A, mean_B, var_A, var_B)"
   ]
  },
  {
   "cell_type": "markdown",
   "metadata": {},
   "source": [
    "## Exemples de pages web \n",
    "\n",
    "* Page A visitée 100 fois avec 4 clics\n",
    "* Page B visitée 40 fois avec 2 clics\n",
    "\n",
    "La page B est-elle meilleure que la page A?\n"
   ]
  },
  {
   "cell_type": "code",
   "execution_count": 13,
   "metadata": {},
   "outputs": [
    {
     "name": "stdout",
     "output_type": "stream",
     "text": [
      "*** Test T de Welch ***\n",
      "Moyenne A =  0.04\n",
      "Moyenne B =  0.05\n",
      "Hypothèse que la moyenne B est supérieure à la moyenne A\n",
      "df = 71.90763968072976\n",
      "t = 0.5345224838248488\n",
      "p = 0.5946290087206201\n",
      "*** La différence N'EST PAS statistiquement significative. ***\n"
     ]
    },
    {
     "data": {
      "text/plain": [
       "False"
      ]
     },
     "execution_count": 13,
     "metadata": {},
     "output_type": "execute_result"
    }
   ],
   "source": [
    "size_A = 100\n",
    "mean_A = 4/100\n",
    "var_A = 0.01\n",
    "size_B = 40\n",
    "mean_B = 2/40\n",
    "var_B = 0.01\n",
    "Welch_Ttest(size_A, size_B, mean_A, mean_B, var_A, var_B)"
   ]
  },
  {
   "cell_type": "markdown",
   "metadata": {},
   "source": [
    "On obtient les mêmes taux de clics mais cette fois le nombre de visites est de 1000 pour les deux pages A et B.\n",
    "\n",
    "* Page A visitée 1000 fois avec 40 clics\n",
    "* Page B visitée 1000 fois avec 50 clics"
   ]
  },
  {
   "cell_type": "code",
   "execution_count": 14,
   "metadata": {},
   "outputs": [
    {
     "name": "stdout",
     "output_type": "stream",
     "text": [
      "*** Test T de Welch ***\n",
      "Moyenne A =  0.04\n",
      "Moyenne B =  0.05\n",
      "Hypothèse que la moyenne B est supérieure à la moyenne A\n",
      "df = 1998.0000000000002\n",
      "t = 2.23606797749979\n",
      "p = 0.025457331632895753\n",
      "*** La différence EST statistiquement significative. ***\n"
     ]
    },
    {
     "data": {
      "text/plain": [
       "True"
      ]
     },
     "execution_count": 14,
     "metadata": {},
     "output_type": "execute_result"
    }
   ],
   "source": [
    "size_A = 1000\n",
    "mean_A = 40/1000\n",
    "var_A = 0.01\n",
    "size_B = 1000\n",
    "mean_B = 50/1000\n",
    "var_B = 0.01\n",
    "Welch_Ttest(size_A, size_B, mean_A, mean_B, var_A, var_B)"
   ]
  },
  {
   "cell_type": "code",
   "execution_count": null,
   "metadata": {},
   "outputs": [],
   "source": []
  },
  {
   "cell_type": "code",
   "execution_count": null,
   "metadata": {},
   "outputs": [],
   "source": []
  }
 ],
 "metadata": {
  "kernelspec": {
   "display_name": "Python 3",
   "language": "python",
   "name": "python3"
  },
  "language_info": {
   "codemirror_mode": {
    "name": "ipython",
    "version": 3
   },
   "file_extension": ".py",
   "mimetype": "text/x-python",
   "name": "python",
   "nbconvert_exporter": "python",
   "pygments_lexer": "ipython3",
   "version": "3.6.5"
  }
 },
 "nbformat": 4,
 "nbformat_minor": 2
}
