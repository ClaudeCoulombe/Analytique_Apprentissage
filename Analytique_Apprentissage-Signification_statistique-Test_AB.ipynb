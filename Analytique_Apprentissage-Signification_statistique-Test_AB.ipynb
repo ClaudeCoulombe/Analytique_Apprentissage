{
 "cells": [
  {
   "cell_type": "markdown",
   "metadata": {},
   "source": [
    "# Analytique de l'apprentissage\n",
    "\n",
    "# Signification statistique\n",
    "\n",
    "## Test A/B"
   ]
  },
  {
   "cell_type": "markdown",
   "metadata": {},
   "source": [
    "Carnet web IPython (Jupyter Notebook) en complément du **«Chapitre 6 – Vers une IENA pilotée par les données » ** du livre : **« Vers une nouvelle ingénierie des environnements numériques d’apprentissage »**, auteurs du chapitre, Claude Coulombe & Valéry Psyché, éditeurs: Josiane Basque, Gilbert Paquette, licence code source libre MIT"
   ]
  },
  {
   "cell_type": "markdown",
   "metadata": {},
   "source": [
    "### Utilisation des bibliothèques Python Pandas (manipulation des données), numpy (calcul numérique), statistiques (scipy) et matplotlib (affichage graphique)"
   ]
  },
  {
   "cell_type": "code",
   "execution_count": 33,
   "metadata": {
    "collapsed": true
   },
   "outputs": [],
   "source": [
    "# -*- coding: utf-8 -*-\n",
    "\n",
    "import pandas as pd\n",
    "import numpy as np\n",
    "import scipy.stats\n",
    "from matplotlib import pyplot as plt"
   ]
  },
  {
   "cell_type": "markdown",
   "metadata": {},
   "source": [
    "## Test de signification statistique - moyenne\n",
    "\n",
    "Inspiré de https://rosettacode.org/wiki/Welch%27s_t-test#Using_NumPy_.26_SciPy"
   ]
  },
  {
   "cell_type": "code",
   "execution_count": 34,
   "metadata": {
    "collapsed": true
   },
   "outputs": [],
   "source": [
    "# Inspiré de https://rosettacode.org/wiki/Welch%27s_t-test#Using_NumPy_.26_SciPy\n",
    "# Statistical Significance Tests\n",
    "\n",
    "def Welch_Ttest(taille_A, taille_B, moyenne_A, moyenne_B, var_A, var_B):\n",
    "    print(\"*** Test T de Welch ***\")\n",
    "    signifiant = False\n",
    "    alpha = 0.05\n",
    "    moyenne_B_sup = True\n",
    "    print('Moyenne A = ',moyenne_A)\n",
    "    print('Moyenne B = ',moyenne_B)\n",
    "    if moyenne_B >= moyenne_A:\n",
    "        print(\"Hypothèse que la moyenne B est supérieure à la moyenne A\") \n",
    "    else:\n",
    "        print(\"Hypothèse que la moyenne B est inférieure à la moyenne A\") \n",
    "        moyenne_B_sup=False\n",
    "    t_score = (moyenne_B - moyenne_A)/np.sqrt(var_A/taille_A + var_B/taille_B)\n",
    "    df = (var_A/taille_A + var_B/taille_B)**2 / (var_A**2/(taille_A**2 * (taille_A - 1)) + var_B**2 / (taille_B**2 * (taille_B - 1)))\n",
    "    print(\"df = \" + str(df))\n",
    "    p_value = 2 * scipy.stats.t.cdf(-abs(t_score), df)\n",
    "    print(\"t = \" + str(t_score))\n",
    "    print(\"p = \" + str(p_value))\n",
    "    if moyenne_B_sup:\n",
    "        if (t_score > 0) and ((p_value/2) < alpha):\n",
    "            print(\"*** La différence EST statistiquement significative. ***\")\n",
    "            signifiant = True\n",
    "        else:\n",
    "            print(\"*** La différence N'EST PAS statistiquement significative. ***\")\n",
    "    else:\n",
    "        if (t_score < 0) and ((p_value/2) < alpha):\n",
    "            print(\"*** La différence EST statistiquement significative. ***\")\n",
    "            signifiant = True\n",
    "        else:\n",
    "            print(\"*** La différence N'EST PAS statistiquement significative. ***\")\n",
    "    return signifiant"
   ]
  },
  {
   "cell_type": "code",
   "execution_count": 35,
   "metadata": {
    "collapsed": false
   },
   "outputs": [
    {
     "name": "stdout",
     "output_type": "stream",
     "text": [
      "*** Test T de Welch ***\n",
      "Moyenne A =  2.525\n",
      "Moyenne B =  421.3666666666666\n",
      "Hypothèse que la moyenne B est supérieure à la moyenne A\n",
      "df = 2.0008523488562844\n",
      "t = 9.559497721932658\n",
      "p = 0.01075156114978449\n",
      "*** La différence EST statistiquement significative. ***\n"
     ]
    },
    {
     "data": {
      "text/plain": [
       "True"
      ]
     },
     "execution_count": 35,
     "metadata": {},
     "output_type": "execute_result"
    }
   ],
   "source": [
    "A = [3.0, 4.0, 1.0, 2.1]\n",
    "taille_A = len(A)\n",
    "moyenne_A = np.mean(np.array(A))\n",
    "var_A = np.var(np.array(A), ddof=1)\n",
    "B = [490.2, 340.0, 433.9]\n",
    "taille_B = len(B)\n",
    "moyenne_B = np.mean(np.array(B))\n",
    "var_B = np.var(np.array(B), ddof=1)\n",
    "Welch_Ttest(taille_A, taille_B, moyenne_A, moyenne_B, var_A, var_B)"
   ]
  },
  {
   "cell_type": "code",
   "execution_count": 36,
   "metadata": {
    "collapsed": false
   },
   "outputs": [
    {
     "name": "stdout",
     "output_type": "stream",
     "text": [
      "*** Test T de Welch ***\n",
      "Moyenne A =  421.3666666666666\n",
      "Moyenne B =  2.525\n",
      "Hypothèse que la moyenne B est inférieure à la moyenne A\n",
      "df = 2.0008523488562844\n",
      "t = -9.559497721932658\n",
      "p = 0.01075156114978449\n",
      "*** La différence EST statistiquement significative. ***\n"
     ]
    },
    {
     "data": {
      "text/plain": [
       "True"
      ]
     },
     "execution_count": 36,
     "metadata": {},
     "output_type": "execute_result"
    }
   ],
   "source": [
    "A = [490.2, 340.0, 433.9]\n",
    "taille_A = len(A)\n",
    "moyenne_A = np.mean(np.array(A))\n",
    "var_A = np.var(np.array(A), ddof=1)\n",
    "B = [3.0, 4.0, 1.0, 2.1]\n",
    "taille_B = len(B)\n",
    "moyenne_B = np.mean(np.array(B))\n",
    "var_B = np.var(np.array(B), ddof=1)\n",
    "Welch_Ttest(taille_A, taille_B, moyenne_A, moyenne_B, var_A, var_B)"
   ]
  },
  {
   "cell_type": "code",
   "execution_count": 37,
   "metadata": {
    "collapsed": false
   },
   "outputs": [
    {
     "name": "stdout",
     "output_type": "stream",
     "text": [
      "*** Test T de Welch ***\n",
      "Moyenne A =  75\n",
      "Moyenne B =  80\n",
      "Hypothèse que la moyenne B est supérieure à la moyenne A\n",
      "df = 198.0\n",
      "t = 1.1785113019775793\n",
      "p = 0.24000719258136277\n",
      "*** La différence N'EST PAS statistiquement significative. ***\n"
     ]
    },
    {
     "data": {
      "text/plain": [
       "False"
      ]
     },
     "execution_count": 37,
     "metadata": {},
     "output_type": "execute_result"
    }
   ],
   "source": [
    "taille_A = 100\n",
    "moyenne_A = 75\n",
    "var_A = 30**2\n",
    "taille_B = 100\n",
    "moyenne_B = 80\n",
    "var_B = 30**2\n",
    "Welch_Ttest(taille_A, taille_B, moyenne_A, moyenne_B, var_A, var_B)"
   ]
  },
  {
   "cell_type": "code",
   "execution_count": 38,
   "metadata": {
    "collapsed": false
   },
   "outputs": [
    {
     "name": "stdout",
     "output_type": "stream",
     "text": [
      "*** Test T de Welch ***\n",
      "Moyenne A =  75\n",
      "Moyenne B =  80\n",
      "Hypothèse que la moyenne B est supérieure à la moyenne A\n",
      "df = 925.4451038575669\n",
      "t = 2.23606797749979\n",
      "p = 0.025584996125442044\n",
      "*** La différence EST statistiquement significative. ***\n"
     ]
    },
    {
     "data": {
      "text/plain": [
       "True"
      ]
     },
     "execution_count": 38,
     "metadata": {},
     "output_type": "execute_result"
    }
   ],
   "source": [
    "size_A = 500\n",
    "mean_A = 75\n",
    "var_A = 30**2\n",
    "size_B = 500\n",
    "mean_B = 80\n",
    "var_B = 40**2\n",
    "Welch_Ttest(size_A, size_B, mean_A, mean_B, var_A, var_B)"
   ]
  },
  {
   "cell_type": "markdown",
   "metadata": {},
   "source": [
    "## Test A/B \n",
    "\n",
    "* Page A visitée 100 fois avec 4 clics\n",
    "* Page B visitée 40 fois avec 2 clics\n",
    "\n",
    "La page B est-elle meilleure que la page A?\n"
   ]
  },
  {
   "cell_type": "code",
   "execution_count": 39,
   "metadata": {
    "collapsed": false
   },
   "outputs": [
    {
     "name": "stdout",
     "output_type": "stream",
     "text": [
      "*** Test T de Welch ***\n",
      "Moyenne A =  0.04\n",
      "Moyenne B =  0.05\n",
      "Hypothèse que la moyenne B est supérieure à la moyenne A\n",
      "df = 71.90763968072976\n",
      "t = 0.5345224838248488\n",
      "p = 0.5946290087206201\n",
      "*** La différence N'EST PAS statistiquement significative. ***\n"
     ]
    },
    {
     "data": {
      "text/plain": [
       "False"
      ]
     },
     "execution_count": 39,
     "metadata": {},
     "output_type": "execute_result"
    }
   ],
   "source": [
    "size_A = 100\n",
    "mean_A = 4/100\n",
    "var_A = 0.01\n",
    "size_B = 40\n",
    "mean_B = 2/40\n",
    "var_B = 0.01\n",
    "Welch_Ttest(size_A, size_B, mean_A, mean_B, var_A, var_B)"
   ]
  },
  {
   "cell_type": "markdown",
   "metadata": {},
   "source": [
    "On obtient les mêmes taux de clics mais cette fois le nombre de visites est de 1000 pour les deux pages A et B.\n",
    "\n",
    "* Page A visitée 1000 fois avec 40 clics\n",
    "* Page B visitée 1000 fois avec 50 clics"
   ]
  },
  {
   "cell_type": "code",
   "execution_count": 40,
   "metadata": {
    "collapsed": false
   },
   "outputs": [
    {
     "name": "stdout",
     "output_type": "stream",
     "text": [
      "*** Test T de Welch ***\n",
      "Moyenne A =  0.04\n",
      "Moyenne B =  0.05\n",
      "Hypothèse que la moyenne B est supérieure à la moyenne A\n",
      "df = 1998.0000000000002\n",
      "t = 2.23606797749979\n",
      "p = 0.025457331632895753\n",
      "*** La différence EST statistiquement significative. ***\n"
     ]
    },
    {
     "data": {
      "text/plain": [
       "True"
      ]
     },
     "execution_count": 40,
     "metadata": {},
     "output_type": "execute_result"
    }
   ],
   "source": [
    "size_A = 1000\n",
    "mean_A = 40/1000\n",
    "var_A = 0.01\n",
    "size_B = 1000\n",
    "mean_B = 50/1000\n",
    "var_B = 0.01\n",
    "Welch_Ttest(size_A, size_B, mean_A, mean_B, var_A, var_B)"
   ]
  },
  {
   "cell_type": "code",
   "execution_count": null,
   "metadata": {
    "collapsed": true
   },
   "outputs": [],
   "source": []
  }
 ],
 "metadata": {
  "kernelspec": {
   "display_name": "Python 3",
   "language": "python",
   "name": "python3"
  },
  "language_info": {
   "codemirror_mode": {
    "name": "ipython",
    "version": 3
   },
   "file_extension": ".py",
   "mimetype": "text/x-python",
   "name": "python",
   "nbconvert_exporter": "python",
   "pygments_lexer": "ipython3",
   "version": "3.6.5"
  }
 },
 "nbformat": 4,
 "nbformat_minor": 2
}
