{
 "cells": [
  {
   "cell_type": "markdown",
   "metadata": {},
   "source": [
    "# Analytique de l'apprentissage\n",
    "\n",
    "## Extraction de relations, corrélations et de motifs\n"
   ]
  },
  {
   "cell_type": "markdown",
   "metadata": {},
   "source": [
    "Carnet web IPython (Jupyter Notebook) en complément du **«Chapitre 6 – Vers une IENA pilotée par les données » ** du livre : **« Vers une nouvelle ingénierie des environnements numériques d’apprentissage »**, auteurs du chapitre, Claude Coulombe & Valéry Psyché, éditeurs: Josiane Basque, Gilbert Paquette, licence code source libre MIT"
   ]
  },
  {
   "cell_type": "markdown",
   "metadata": {},
   "source": [
    "### Relation entre l'organisation du temps vs les notes et la certification\n",
    "\n",
    "Nous allons étudier la corrélation entre l’organisation du temps d’étude, les notes obtenues et la réussite du cours par l'obtention d'une attestation.\n",
    "\n",
    "L’analytique d’apprentissage consiste souvent en la vérification d’hypothèses. Par exemple, dans Ulibre, nous avons cherché à savoir s’il y avait une relation (une corrélation) entre l’organisation du temps d’étude et l’obtention de la certification (i.e. la complétion du cours).\n",
    "\n",
    "Le coefficient de corrélation linéaire, noté r, quantifie la force du lien linéaire entre les deux attributs d’une distribution."
   ]
  },
  {
   "cell_type": "code",
   "execution_count": 2,
   "metadata": {},
   "outputs": [],
   "source": [
    "# -*- coding: utf-8 -*-\n",
    "\n",
    "import pandas as pd\n",
    "import numpy as np\n",
    "from matplotlib import pyplot as plt"
   ]
  },
  {
   "cell_type": "code",
   "execution_count": 3,
   "metadata": {},
   "outputs": [],
   "source": [
    "path_to_datafile = \"AA_data/\""
   ]
  },
  {
   "cell_type": "code",
   "execution_count": 4,
   "metadata": {},
   "outputs": [
    {
     "data": {
      "text/html": [
       "<div>\n",
       "<style scoped>\n",
       "    .dataframe tbody tr th:only-of-type {\n",
       "        vertical-align: middle;\n",
       "    }\n",
       "\n",
       "    .dataframe tbody tr th {\n",
       "        vertical-align: top;\n",
       "    }\n",
       "\n",
       "    .dataframe thead th {\n",
       "        text-align: right;\n",
       "    }\n",
       "</style>\n",
       "<table border=\"1\" class=\"dataframe\">\n",
       "  <thead>\n",
       "    <tr style=\"text-align: right;\">\n",
       "      <th></th>\n",
       "      <th>student_id</th>\n",
       "      <th>grade</th>\n",
       "      <th>attestation</th>\n",
       "    </tr>\n",
       "  </thead>\n",
       "  <tbody>\n",
       "    <tr>\n",
       "      <th>0</th>\n",
       "      <td>5</td>\n",
       "      <td>0</td>\n",
       "      <td>notpassing</td>\n",
       "    </tr>\n",
       "    <tr>\n",
       "      <th>1</th>\n",
       "      <td>6</td>\n",
       "      <td>0</td>\n",
       "      <td>notpassing</td>\n",
       "    </tr>\n",
       "    <tr>\n",
       "      <th>2</th>\n",
       "      <td>8</td>\n",
       "      <td>0</td>\n",
       "      <td>notpassing</td>\n",
       "    </tr>\n",
       "    <tr>\n",
       "      <th>3</th>\n",
       "      <td>13</td>\n",
       "      <td>8</td>\n",
       "      <td>notpassing</td>\n",
       "    </tr>\n",
       "    <tr>\n",
       "      <th>4</th>\n",
       "      <td>33</td>\n",
       "      <td>0</td>\n",
       "      <td>notpassing</td>\n",
       "    </tr>\n",
       "  </tbody>\n",
       "</table>\n",
       "</div>"
      ],
      "text/plain": [
       "   student_id  grade attestation\n",
       "0           5      0  notpassing\n",
       "1           6      0  notpassing\n",
       "2           8      0  notpassing\n",
       "3          13      8  notpassing\n",
       "4          33      0  notpassing"
      ]
     },
     "execution_count": 4,
     "metadata": {},
     "output_type": "execute_result"
    }
   ],
   "source": [
    "DF_id_notes_attestation = pd.read_csv(path_to_datafile+\"CTF_id_notes_attestation.csv\", \n",
    "                                      na_values=[\"\"], \n",
    "                                      index_col=False)\n",
    "DF_id_notes_attestation.head()"
   ]
  },
  {
   "cell_type": "code",
   "execution_count": 5,
   "metadata": {},
   "outputs": [
    {
     "data": {
      "text/html": [
       "<div>\n",
       "<style scoped>\n",
       "    .dataframe tbody tr th:only-of-type {\n",
       "        vertical-align: middle;\n",
       "    }\n",
       "\n",
       "    .dataframe tbody tr th {\n",
       "        vertical-align: top;\n",
       "    }\n",
       "\n",
       "    .dataframe thead th {\n",
       "        text-align: right;\n",
       "    }\n",
       "</style>\n",
       "<table border=\"1\" class=\"dataframe\">\n",
       "  <thead>\n",
       "    <tr style=\"text-align: right;\">\n",
       "      <th></th>\n",
       "      <th>etudiant_id</th>\n",
       "      <th>note</th>\n",
       "      <th>attestation</th>\n",
       "    </tr>\n",
       "  </thead>\n",
       "  <tbody>\n",
       "    <tr>\n",
       "      <th>0</th>\n",
       "      <td>5</td>\n",
       "      <td>0</td>\n",
       "      <td>notpassing</td>\n",
       "    </tr>\n",
       "    <tr>\n",
       "      <th>1</th>\n",
       "      <td>6</td>\n",
       "      <td>0</td>\n",
       "      <td>notpassing</td>\n",
       "    </tr>\n",
       "    <tr>\n",
       "      <th>2</th>\n",
       "      <td>8</td>\n",
       "      <td>0</td>\n",
       "      <td>notpassing</td>\n",
       "    </tr>\n",
       "    <tr>\n",
       "      <th>3</th>\n",
       "      <td>13</td>\n",
       "      <td>8</td>\n",
       "      <td>notpassing</td>\n",
       "    </tr>\n",
       "    <tr>\n",
       "      <th>4</th>\n",
       "      <td>33</td>\n",
       "      <td>0</td>\n",
       "      <td>notpassing</td>\n",
       "    </tr>\n",
       "  </tbody>\n",
       "</table>\n",
       "</div>"
      ],
      "text/plain": [
       "   etudiant_id  note attestation\n",
       "0            5     0  notpassing\n",
       "1            6     0  notpassing\n",
       "2            8     0  notpassing\n",
       "3           13     8  notpassing\n",
       "4           33     0  notpassing"
      ]
     },
     "execution_count": 5,
     "metadata": {},
     "output_type": "execute_result"
    }
   ],
   "source": [
    "DF_id_notes_attestation.rename(columns={'student_id':'etudiant_id','grade':'note'}, inplace=True)\n",
    "DF_id_notes_attestation.head()"
   ]
  },
  {
   "cell_type": "code",
   "execution_count": 6,
   "metadata": {},
   "outputs": [
    {
     "data": {
      "text/plain": [
       "attestation\n",
       "generating     427\n",
       "notpassing    1916\n",
       "dtype: int64"
      ]
     },
     "execution_count": 6,
     "metadata": {},
     "output_type": "execute_result"
    }
   ],
   "source": [
    "DF_id_notes_attestation.groupby('attestation').size()"
   ]
  },
  {
   "cell_type": "code",
   "execution_count": 7,
   "metadata": {},
   "outputs": [
    {
     "data": {
      "text/html": [
       "<div>\n",
       "<style scoped>\n",
       "    .dataframe tbody tr th:only-of-type {\n",
       "        vertical-align: middle;\n",
       "    }\n",
       "\n",
       "    .dataframe tbody tr th {\n",
       "        vertical-align: top;\n",
       "    }\n",
       "\n",
       "    .dataframe thead th {\n",
       "        text-align: right;\n",
       "    }\n",
       "</style>\n",
       "<table border=\"1\" class=\"dataframe\">\n",
       "  <thead>\n",
       "    <tr style=\"text-align: right;\">\n",
       "      <th></th>\n",
       "      <th>etudiant_id</th>\n",
       "      <th>note</th>\n",
       "      <th>attestation</th>\n",
       "    </tr>\n",
       "  </thead>\n",
       "  <tbody>\n",
       "    <tr>\n",
       "      <th>0</th>\n",
       "      <td>5</td>\n",
       "      <td>0</td>\n",
       "      <td>0</td>\n",
       "    </tr>\n",
       "    <tr>\n",
       "      <th>1</th>\n",
       "      <td>6</td>\n",
       "      <td>0</td>\n",
       "      <td>0</td>\n",
       "    </tr>\n",
       "    <tr>\n",
       "      <th>2</th>\n",
       "      <td>8</td>\n",
       "      <td>0</td>\n",
       "      <td>0</td>\n",
       "    </tr>\n",
       "    <tr>\n",
       "      <th>3</th>\n",
       "      <td>13</td>\n",
       "      <td>8</td>\n",
       "      <td>0</td>\n",
       "    </tr>\n",
       "    <tr>\n",
       "      <th>4</th>\n",
       "      <td>33</td>\n",
       "      <td>0</td>\n",
       "      <td>0</td>\n",
       "    </tr>\n",
       "  </tbody>\n",
       "</table>\n",
       "</div>"
      ],
      "text/plain": [
       "   etudiant_id  note  attestation\n",
       "0            5     0            0\n",
       "1            6     0            0\n",
       "2            8     0            0\n",
       "3           13     8            0\n",
       "4           33     0            0"
      ]
     },
     "execution_count": 7,
     "metadata": {},
     "output_type": "execute_result"
    }
   ],
   "source": [
    "DF_id_notes_attestation['attestation'] = DF_id_notes_attestation['attestation'].replace({'generating': 1, 'notpassing': 0})\n",
    "DF_id_notes_attestation.head()"
   ]
  },
  {
   "cell_type": "code",
   "execution_count": 8,
   "metadata": {},
   "outputs": [
    {
     "data": {
      "text/html": [
       "<div>\n",
       "<style scoped>\n",
       "    .dataframe tbody tr th:only-of-type {\n",
       "        vertical-align: middle;\n",
       "    }\n",
       "\n",
       "    .dataframe tbody tr th {\n",
       "        vertical-align: top;\n",
       "    }\n",
       "\n",
       "    .dataframe thead th {\n",
       "        text-align: right;\n",
       "    }\n",
       "</style>\n",
       "<table border=\"1\" class=\"dataframe\">\n",
       "  <thead>\n",
       "    <tr style=\"text-align: right;\">\n",
       "      <th></th>\n",
       "      <th>student_id</th>\n",
       "      <th>time_organization</th>\n",
       "    </tr>\n",
       "  </thead>\n",
       "  <tbody>\n",
       "    <tr>\n",
       "      <th>0</th>\n",
       "      <td>13</td>\n",
       "      <td>NaN</td>\n",
       "    </tr>\n",
       "    <tr>\n",
       "      <th>1</th>\n",
       "      <td>369</td>\n",
       "      <td>NaN</td>\n",
       "    </tr>\n",
       "    <tr>\n",
       "      <th>2</th>\n",
       "      <td>4672</td>\n",
       "      <td>A des moments tres variables*Surtout durant la semaine - peu la fin de semaine*A egalite : le jour et en soiree*Jamais</td>\n",
       "    </tr>\n",
       "    <tr>\n",
       "      <th>3</th>\n",
       "      <td>5554</td>\n",
       "      <td>NaN</td>\n",
       "    </tr>\n",
       "    <tr>\n",
       "      <th>4</th>\n",
       "      <td>5611</td>\n",
       "      <td>A des moments tres variables*Surtout durant la semaine - peu la fin de semaine*A egalite : le jour et en soiree*Parfois</td>\n",
       "    </tr>\n",
       "  </tbody>\n",
       "</table>\n",
       "</div>"
      ],
      "text/plain": [
       "   student_id  \\\n",
       "0          13   \n",
       "1         369   \n",
       "2        4672   \n",
       "3        5554   \n",
       "4        5611   \n",
       "\n",
       "                                                                                                         time_organization  \n",
       "0                                                                                                                      NaN  \n",
       "1                                                                                                                      NaN  \n",
       "2   A des moments tres variables*Surtout durant la semaine - peu la fin de semaine*A egalite : le jour et en soiree*Jamais  \n",
       "3                                                                                                                      NaN  \n",
       "4  A des moments tres variables*Surtout durant la semaine - peu la fin de semaine*A egalite : le jour et en soiree*Parfois  "
      ]
     },
     "execution_count": 8,
     "metadata": {},
     "output_type": "execute_result"
    }
   ],
   "source": [
    "DF_id_horaire = pd.read_csv(path_to_datafile+\"CTF_final_Q11_rep.csv\", \n",
    "                            na_values=[\"***\",None],\n",
    "                            usecols=['student_id','time_organization'],\n",
    "                            index_col=False)\n",
    "pd.options.display.max_colwidth = 1000\n",
    "DF_id_horaire.head()"
   ]
  },
  {
   "cell_type": "code",
   "execution_count": 9,
   "metadata": {},
   "outputs": [],
   "source": [
    "DF_id_horaire.rename(columns={'student_id':\"etudiant_id\",'time_organization':\"horaire\"}, inplace=True)"
   ]
  },
  {
   "cell_type": "code",
   "execution_count": 10,
   "metadata": {},
   "outputs": [
    {
     "data": {
      "text/html": [
       "<div>\n",
       "<style scoped>\n",
       "    .dataframe tbody tr th:only-of-type {\n",
       "        vertical-align: middle;\n",
       "    }\n",
       "\n",
       "    .dataframe tbody tr th {\n",
       "        vertical-align: top;\n",
       "    }\n",
       "\n",
       "    .dataframe thead th {\n",
       "        text-align: right;\n",
       "    }\n",
       "</style>\n",
       "<table border=\"1\" class=\"dataframe\">\n",
       "  <thead>\n",
       "    <tr style=\"text-align: right;\">\n",
       "      <th></th>\n",
       "      <th>etudiant_id</th>\n",
       "      <th>horaire</th>\n",
       "    </tr>\n",
       "  </thead>\n",
       "  <tbody>\n",
       "    <tr>\n",
       "      <th>2</th>\n",
       "      <td>4672</td>\n",
       "      <td>A des moments tres variables*Surtout durant la semaine - peu la fin de semaine*A egalite : le jour et en soiree*Jamais</td>\n",
       "    </tr>\n",
       "    <tr>\n",
       "      <th>4</th>\n",
       "      <td>5611</td>\n",
       "      <td>A des moments tres variables*Surtout durant la semaine - peu la fin de semaine*A egalite : le jour et en soiree*Parfois</td>\n",
       "    </tr>\n",
       "    <tr>\n",
       "      <th>5</th>\n",
       "      <td>4462</td>\n",
       "      <td>A des moments tres variables*En semaine ou la fin de semaine a egalite*Surtout le jour : entre 8h00 et 18h00.*Parfois</td>\n",
       "    </tr>\n",
       "    <tr>\n",
       "      <th>7</th>\n",
       "      <td>608</td>\n",
       "      <td>Plage de temps reservee avec quelques exceptions*En semaine ou la fin de semaine a egalite*A egalite : le jour et en soiree*Jamais</td>\n",
       "    </tr>\n",
       "    <tr>\n",
       "      <th>8</th>\n",
       "      <td>4344</td>\n",
       "      <td>A des moments tres variables*Surtout durant la semaine - peu la fin de semaine*Surtout en soiree : apres 18h00.*Parfois</td>\n",
       "    </tr>\n",
       "  </tbody>\n",
       "</table>\n",
       "</div>"
      ],
      "text/plain": [
       "   etudiant_id  \\\n",
       "2         4672   \n",
       "4         5611   \n",
       "5         4462   \n",
       "7          608   \n",
       "8         4344   \n",
       "\n",
       "                                                                                                                              horaire  \n",
       "2              A des moments tres variables*Surtout durant la semaine - peu la fin de semaine*A egalite : le jour et en soiree*Jamais  \n",
       "4             A des moments tres variables*Surtout durant la semaine - peu la fin de semaine*A egalite : le jour et en soiree*Parfois  \n",
       "5               A des moments tres variables*En semaine ou la fin de semaine a egalite*Surtout le jour : entre 8h00 et 18h00.*Parfois  \n",
       "7  Plage de temps reservee avec quelques exceptions*En semaine ou la fin de semaine a egalite*A egalite : le jour et en soiree*Jamais  \n",
       "8             A des moments tres variables*Surtout durant la semaine - peu la fin de semaine*Surtout en soiree : apres 18h00.*Parfois  "
      ]
     },
     "execution_count": 10,
     "metadata": {},
     "output_type": "execute_result"
    }
   ],
   "source": [
    "DF_id_horaire.dropna(subset=['horaire'], inplace = True)\n",
    "DF_id_horaire.head()"
   ]
  },
  {
   "cell_type": "code",
   "execution_count": 11,
   "metadata": {},
   "outputs": [],
   "source": [
    "DF_id_horaire['horaire'] = DF_id_horaire['horaire'].apply(lambda horaire: (horaire.split('*')[0]))"
   ]
  },
  {
   "cell_type": "code",
   "execution_count": 12,
   "metadata": {},
   "outputs": [
    {
     "data": {
      "text/plain": [
       "horaire\n",
       "                                                    241\n",
       "A des moments tres variables                          8\n",
       "Plage de temps reservee avec quelques exceptions     97\n",
       "Plage de temps strictement reservee                  57\n",
       "dtype: int64"
      ]
     },
     "execution_count": 12,
     "metadata": {},
     "output_type": "execute_result"
    }
   ],
   "source": [
    "DF_id_horaire.groupby('horaire').size()"
   ]
  },
  {
   "cell_type": "code",
   "execution_count": 13,
   "metadata": {},
   "outputs": [],
   "source": [
    "DF_id_horaire['horaire'] = DF_id_horaire['horaire'].apply(lambda horaire: np.nan if len(str(horaire)) < 1 else horaire )"
   ]
  },
  {
   "cell_type": "code",
   "execution_count": 14,
   "metadata": {},
   "outputs": [
    {
     "data": {
      "text/plain": [
       "horaire\n",
       "A des moments tres variables                         8\n",
       "Plage de temps reservee avec quelques exceptions    97\n",
       "Plage de temps strictement reservee                 57\n",
       "dtype: int64"
      ]
     },
     "execution_count": 14,
     "metadata": {},
     "output_type": "execute_result"
    }
   ],
   "source": [
    "DF_id_horaire.groupby('horaire').size()"
   ]
  },
  {
   "cell_type": "code",
   "execution_count": 15,
   "metadata": {},
   "outputs": [],
   "source": [
    "DF_fusion = pd.merge(left=DF_id_notes_attestation,right=DF_id_horaire,\n",
    "                     on='etudiant_id', how='left')"
   ]
  },
  {
   "cell_type": "code",
   "execution_count": 16,
   "metadata": {},
   "outputs": [
    {
     "data": {
      "text/plain": [
       "horaire\n",
       "A des moments tres variables                         8\n",
       "Plage de temps reservee avec quelques exceptions    97\n",
       "Plage de temps strictement reservee                 56\n",
       "dtype: int64"
      ]
     },
     "execution_count": 16,
     "metadata": {},
     "output_type": "execute_result"
    }
   ],
   "source": [
    "DF_fusion.groupby('horaire').size()"
   ]
  },
  {
   "cell_type": "code",
   "execution_count": 17,
   "metadata": {},
   "outputs": [
    {
     "data": {
      "text/html": [
       "<div>\n",
       "<style scoped>\n",
       "    .dataframe tbody tr th:only-of-type {\n",
       "        vertical-align: middle;\n",
       "    }\n",
       "\n",
       "    .dataframe tbody tr th {\n",
       "        vertical-align: top;\n",
       "    }\n",
       "\n",
       "    .dataframe thead th {\n",
       "        text-align: right;\n",
       "    }\n",
       "</style>\n",
       "<table border=\"1\" class=\"dataframe\">\n",
       "  <thead>\n",
       "    <tr style=\"text-align: right;\">\n",
       "      <th></th>\n",
       "      <th>etudiant_id</th>\n",
       "      <th>note</th>\n",
       "      <th>attestation</th>\n",
       "      <th>horaire</th>\n",
       "    </tr>\n",
       "  </thead>\n",
       "  <tbody>\n",
       "    <tr>\n",
       "      <th>0</th>\n",
       "      <td>5</td>\n",
       "      <td>0</td>\n",
       "      <td>0</td>\n",
       "      <td>NaN</td>\n",
       "    </tr>\n",
       "    <tr>\n",
       "      <th>1</th>\n",
       "      <td>6</td>\n",
       "      <td>0</td>\n",
       "      <td>0</td>\n",
       "      <td>NaN</td>\n",
       "    </tr>\n",
       "    <tr>\n",
       "      <th>2</th>\n",
       "      <td>8</td>\n",
       "      <td>0</td>\n",
       "      <td>0</td>\n",
       "      <td>NaN</td>\n",
       "    </tr>\n",
       "    <tr>\n",
       "      <th>3</th>\n",
       "      <td>13</td>\n",
       "      <td>8</td>\n",
       "      <td>0</td>\n",
       "      <td>NaN</td>\n",
       "    </tr>\n",
       "    <tr>\n",
       "      <th>4</th>\n",
       "      <td>33</td>\n",
       "      <td>0</td>\n",
       "      <td>0</td>\n",
       "      <td>NaN</td>\n",
       "    </tr>\n",
       "  </tbody>\n",
       "</table>\n",
       "</div>"
      ],
      "text/plain": [
       "   etudiant_id  note  attestation horaire\n",
       "0            5     0            0     NaN\n",
       "1            6     0            0     NaN\n",
       "2            8     0            0     NaN\n",
       "3           13     8            0     NaN\n",
       "4           33     0            0     NaN"
      ]
     },
     "execution_count": 17,
     "metadata": {},
     "output_type": "execute_result"
    }
   ],
   "source": [
    "DF_fusion.head()"
   ]
  },
  {
   "cell_type": "code",
   "execution_count": 18,
   "metadata": {},
   "outputs": [],
   "source": [
    "DF_fusion.dropna(subset=['horaire'], inplace = True)"
   ]
  },
  {
   "cell_type": "code",
   "execution_count": 19,
   "metadata": {},
   "outputs": [
    {
     "data": {
      "text/plain": [
       "horaire\n",
       "A des moments tres variables                         8\n",
       "Plage de temps reservee avec quelques exceptions    97\n",
       "Plage de temps strictement reservee                 56\n",
       "dtype: int64"
      ]
     },
     "execution_count": 19,
     "metadata": {},
     "output_type": "execute_result"
    }
   ],
   "source": [
    "DF_fusion.groupby('horaire').size()"
   ]
  },
  {
   "cell_type": "code",
   "execution_count": 20,
   "metadata": {},
   "outputs": [
    {
     "data": {
      "text/plain": [
       "161"
      ]
     },
     "execution_count": 20,
     "metadata": {},
     "output_type": "execute_result"
    }
   ],
   "source": [
    "len(DF_fusion)"
   ]
  },
  {
   "cell_type": "code",
   "execution_count": 21,
   "metadata": {},
   "outputs": [
    {
     "data": {
      "text/html": [
       "<div>\n",
       "<style scoped>\n",
       "    .dataframe tbody tr th:only-of-type {\n",
       "        vertical-align: middle;\n",
       "    }\n",
       "\n",
       "    .dataframe tbody tr th {\n",
       "        vertical-align: top;\n",
       "    }\n",
       "\n",
       "    .dataframe thead th {\n",
       "        text-align: right;\n",
       "    }\n",
       "</style>\n",
       "<table border=\"1\" class=\"dataframe\">\n",
       "  <thead>\n",
       "    <tr style=\"text-align: right;\">\n",
       "      <th></th>\n",
       "      <th>etudiant_id</th>\n",
       "      <th>note</th>\n",
       "      <th>attestation</th>\n",
       "      <th>horaire</th>\n",
       "    </tr>\n",
       "  </thead>\n",
       "  <tbody>\n",
       "    <tr>\n",
       "      <th>12</th>\n",
       "      <td>256</td>\n",
       "      <td>89</td>\n",
       "      <td>1</td>\n",
       "      <td>Plage de temps strictement reservee</td>\n",
       "    </tr>\n",
       "    <tr>\n",
       "      <th>22</th>\n",
       "      <td>274</td>\n",
       "      <td>88</td>\n",
       "      <td>1</td>\n",
       "      <td>Plage de temps reservee avec quelques exceptions</td>\n",
       "    </tr>\n",
       "    <tr>\n",
       "      <th>32</th>\n",
       "      <td>289</td>\n",
       "      <td>85</td>\n",
       "      <td>1</td>\n",
       "      <td>Plage de temps reservee avec quelques exceptions</td>\n",
       "    </tr>\n",
       "    <tr>\n",
       "      <th>36</th>\n",
       "      <td>296</td>\n",
       "      <td>87</td>\n",
       "      <td>1</td>\n",
       "      <td>Plage de temps reservee avec quelques exceptions</td>\n",
       "    </tr>\n",
       "    <tr>\n",
       "      <th>44</th>\n",
       "      <td>312</td>\n",
       "      <td>80</td>\n",
       "      <td>1</td>\n",
       "      <td>Plage de temps reservee avec quelques exceptions</td>\n",
       "    </tr>\n",
       "  </tbody>\n",
       "</table>\n",
       "</div>"
      ],
      "text/plain": [
       "    etudiant_id  note  attestation  \\\n",
       "12          256    89            1   \n",
       "22          274    88            1   \n",
       "32          289    85            1   \n",
       "36          296    87            1   \n",
       "44          312    80            1   \n",
       "\n",
       "                                             horaire  \n",
       "12               Plage de temps strictement reservee  \n",
       "22  Plage de temps reservee avec quelques exceptions  \n",
       "32  Plage de temps reservee avec quelques exceptions  \n",
       "36  Plage de temps reservee avec quelques exceptions  \n",
       "44  Plage de temps reservee avec quelques exceptions  "
      ]
     },
     "execution_count": 21,
     "metadata": {},
     "output_type": "execute_result"
    }
   ],
   "source": [
    "DF_fusion.head()"
   ]
  },
  {
   "cell_type": "code",
   "execution_count": 22,
   "metadata": {},
   "outputs": [
    {
     "name": "stdout",
     "output_type": "stream",
     "text": [
      "Plage de temps strictement reservee\n",
      "Plage de temps reservee avec quelques exceptions\n",
      "Plage de temps reservee avec quelques exceptions\n",
      "Plage de temps reservee avec quelques exceptions\n",
      "Plage de temps reservee avec quelques exceptions\n",
      "Plage de temps strictement reservee\n",
      "Plage de temps reservee avec quelques exceptions\n",
      "Plage de temps reservee avec quelques exceptions\n",
      "Plage de temps reservee avec quelques exceptions\n",
      "Plage de temps reservee avec quelques exceptions\n",
      "Plage de temps strictement reservee\n",
      "Plage de temps reservee avec quelques exceptions\n",
      "Plage de temps reservee avec quelques exceptions\n",
      "Plage de temps reservee avec quelques exceptions\n",
      "Plage de temps strictement reservee\n",
      "Plage de temps reservee avec quelques exceptions\n",
      "Plage de temps reservee avec quelques exceptions\n",
      "Plage de temps reservee avec quelques exceptions\n",
      "Plage de temps strictement reservee\n",
      "Plage de temps strictement reservee\n",
      "Plage de temps reservee avec quelques exceptions\n",
      "Plage de temps reservee avec quelques exceptions\n",
      "Plage de temps strictement reservee\n",
      "Plage de temps reservee avec quelques exceptions\n",
      "Plage de temps reservee avec quelques exceptions\n",
      "Plage de temps strictement reservee\n",
      "Plage de temps strictement reservee\n",
      "Plage de temps reservee avec quelques exceptions\n",
      "Plage de temps reservee avec quelques exceptions\n",
      "Plage de temps strictement reservee\n",
      "Plage de temps reservee avec quelques exceptions\n",
      "Plage de temps reservee avec quelques exceptions\n",
      "Plage de temps reservee avec quelques exceptions\n",
      "Plage de temps reservee avec quelques exceptions\n",
      "Plage de temps strictement reservee\n",
      "Plage de temps reservee avec quelques exceptions\n",
      "Plage de temps strictement reservee\n",
      "Plage de temps strictement reservee\n",
      "Plage de temps reservee avec quelques exceptions\n",
      "Plage de temps strictement reservee\n",
      "Plage de temps reservee avec quelques exceptions\n",
      "Plage de temps reservee avec quelques exceptions\n",
      "Plage de temps strictement reservee\n",
      "Plage de temps reservee avec quelques exceptions\n",
      "Plage de temps strictement reservee\n",
      "Plage de temps strictement reservee\n",
      "Plage de temps reservee avec quelques exceptions\n",
      "Plage de temps strictement reservee\n",
      "Plage de temps strictement reservee\n",
      "Plage de temps strictement reservee\n",
      "Plage de temps strictement reservee\n",
      "Plage de temps reservee avec quelques exceptions\n",
      "Plage de temps reservee avec quelques exceptions\n",
      "Plage de temps strictement reservee\n",
      "Plage de temps strictement reservee\n",
      "Plage de temps strictement reservee\n",
      "Plage de temps strictement reservee\n",
      "Plage de temps reservee avec quelques exceptions\n",
      "Plage de temps reservee avec quelques exceptions\n",
      "Plage de temps reservee avec quelques exceptions\n",
      "Plage de temps reservee avec quelques exceptions\n",
      "Plage de temps reservee avec quelques exceptions\n",
      "Plage de temps strictement reservee\n",
      "Plage de temps strictement reservee\n",
      "Plage de temps strictement reservee\n",
      "Plage de temps reservee avec quelques exceptions\n",
      "Plage de temps strictement reservee\n",
      "Plage de temps strictement reservee\n",
      "Plage de temps reservee avec quelques exceptions\n",
      "Plage de temps reservee avec quelques exceptions\n",
      "Plage de temps reservee avec quelques exceptions\n",
      "Plage de temps reservee avec quelques exceptions\n",
      "Plage de temps reservee avec quelques exceptions\n",
      "Plage de temps strictement reservee\n",
      "Plage de temps reservee avec quelques exceptions\n",
      "Plage de temps reservee avec quelques exceptions\n",
      "Plage de temps reservee avec quelques exceptions\n",
      "Plage de temps strictement reservee\n",
      "Plage de temps reservee avec quelques exceptions\n",
      "Plage de temps reservee avec quelques exceptions\n",
      "Plage de temps reservee avec quelques exceptions\n",
      "Plage de temps reservee avec quelques exceptions\n",
      "Plage de temps strictement reservee\n",
      "Plage de temps reservee avec quelques exceptions\n",
      "Plage de temps reservee avec quelques exceptions\n",
      "Plage de temps reservee avec quelques exceptions\n",
      "Plage de temps reservee avec quelques exceptions\n",
      "Plage de temps reservee avec quelques exceptions\n",
      "Plage de temps strictement reservee\n",
      "Plage de temps strictement reservee\n",
      "Plage de temps reservee avec quelques exceptions\n",
      "Plage de temps strictement reservee\n",
      "Plage de temps reservee avec quelques exceptions\n",
      "Plage de temps strictement reservee\n",
      "Plage de temps strictement reservee\n",
      "Plage de temps reservee avec quelques exceptions\n",
      "Plage de temps reservee avec quelques exceptions\n",
      "Plage de temps reservee avec quelques exceptions\n",
      "Plage de temps strictement reservee\n",
      "Plage de temps reservee avec quelques exceptions\n",
      "Plage de temps strictement reservee\n",
      "Plage de temps strictement reservee\n",
      "Plage de temps reservee avec quelques exceptions\n",
      "Plage de temps reservee avec quelques exceptions\n",
      "Plage de temps reservee avec quelques exceptions\n",
      "Plage de temps reservee avec quelques exceptions\n",
      "Plage de temps reservee avec quelques exceptions\n",
      "Plage de temps reservee avec quelques exceptions\n",
      "A des moments tres variables\n",
      "Plage de temps strictement reservee\n",
      "Plage de temps strictement reservee\n",
      "Plage de temps reservee avec quelques exceptions\n",
      "Plage de temps reservee avec quelques exceptions\n",
      "A des moments tres variables\n",
      "Plage de temps reservee avec quelques exceptions\n",
      "Plage de temps reservee avec quelques exceptions\n",
      "Plage de temps reservee avec quelques exceptions\n",
      "A des moments tres variables\n",
      "A des moments tres variables\n",
      "Plage de temps reservee avec quelques exceptions\n",
      "Plage de temps reservee avec quelques exceptions\n",
      "Plage de temps reservee avec quelques exceptions\n",
      "Plage de temps reservee avec quelques exceptions\n",
      "Plage de temps reservee avec quelques exceptions\n",
      "A des moments tres variables\n",
      "Plage de temps reservee avec quelques exceptions\n",
      "Plage de temps reservee avec quelques exceptions\n",
      "Plage de temps strictement reservee\n",
      "Plage de temps reservee avec quelques exceptions\n",
      "Plage de temps reservee avec quelques exceptions\n",
      "Plage de temps reservee avec quelques exceptions\n",
      "Plage de temps reservee avec quelques exceptions\n",
      "A des moments tres variables\n",
      "A des moments tres variables\n",
      "Plage de temps reservee avec quelques exceptions\n",
      "Plage de temps strictement reservee\n",
      "Plage de temps strictement reservee\n",
      "Plage de temps reservee avec quelques exceptions\n",
      "Plage de temps reservee avec quelques exceptions\n",
      "Plage de temps strictement reservee\n",
      "Plage de temps reservee avec quelques exceptions\n",
      "Plage de temps reservee avec quelques exceptions\n",
      "Plage de temps strictement reservee\n",
      "Plage de temps reservee avec quelques exceptions\n",
      "Plage de temps reservee avec quelques exceptions\n",
      "Plage de temps reservee avec quelques exceptions\n",
      "Plage de temps strictement reservee\n",
      "Plage de temps strictement reservee\n",
      "Plage de temps strictement reservee\n",
      "A des moments tres variables\n",
      "Plage de temps reservee avec quelques exceptions\n",
      "Plage de temps strictement reservee\n",
      "Plage de temps strictement reservee\n",
      "Plage de temps reservee avec quelques exceptions\n",
      "Plage de temps strictement reservee\n",
      "Plage de temps reservee avec quelques exceptions\n",
      "Plage de temps reservee avec quelques exceptions\n",
      "Plage de temps reservee avec quelques exceptions\n",
      "Plage de temps strictement reservee\n",
      "Plage de temps reservee avec quelques exceptions\n",
      "Plage de temps strictement reservee\n"
     ]
    }
   ],
   "source": [
    "for index,row in DF_fusion.iterrows():\n",
    "    print(row['horaire'])"
   ]
  },
  {
   "cell_type": "code",
   "execution_count": 23,
   "metadata": {},
   "outputs": [],
   "source": [
    "DF_fusion = pd.get_dummies(DF_fusion, prefix =['horaire'] )"
   ]
  },
  {
   "cell_type": "code",
   "execution_count": 24,
   "metadata": {},
   "outputs": [
    {
     "data": {
      "text/html": [
       "<div>\n",
       "<style scoped>\n",
       "    .dataframe tbody tr th:only-of-type {\n",
       "        vertical-align: middle;\n",
       "    }\n",
       "\n",
       "    .dataframe tbody tr th {\n",
       "        vertical-align: top;\n",
       "    }\n",
       "\n",
       "    .dataframe thead th {\n",
       "        text-align: right;\n",
       "    }\n",
       "</style>\n",
       "<table border=\"1\" class=\"dataframe\">\n",
       "  <thead>\n",
       "    <tr style=\"text-align: right;\">\n",
       "      <th></th>\n",
       "      <th>etudiant_id</th>\n",
       "      <th>note</th>\n",
       "      <th>attestation</th>\n",
       "      <th>horaire_A des moments tres variables</th>\n",
       "      <th>horaire_Plage de temps reservee avec quelques exceptions</th>\n",
       "      <th>horaire_Plage de temps strictement reservee</th>\n",
       "    </tr>\n",
       "  </thead>\n",
       "  <tbody>\n",
       "    <tr>\n",
       "      <th>12</th>\n",
       "      <td>256</td>\n",
       "      <td>89</td>\n",
       "      <td>1</td>\n",
       "      <td>0</td>\n",
       "      <td>0</td>\n",
       "      <td>1</td>\n",
       "    </tr>\n",
       "    <tr>\n",
       "      <th>22</th>\n",
       "      <td>274</td>\n",
       "      <td>88</td>\n",
       "      <td>1</td>\n",
       "      <td>0</td>\n",
       "      <td>1</td>\n",
       "      <td>0</td>\n",
       "    </tr>\n",
       "    <tr>\n",
       "      <th>32</th>\n",
       "      <td>289</td>\n",
       "      <td>85</td>\n",
       "      <td>1</td>\n",
       "      <td>0</td>\n",
       "      <td>1</td>\n",
       "      <td>0</td>\n",
       "    </tr>\n",
       "    <tr>\n",
       "      <th>36</th>\n",
       "      <td>296</td>\n",
       "      <td>87</td>\n",
       "      <td>1</td>\n",
       "      <td>0</td>\n",
       "      <td>1</td>\n",
       "      <td>0</td>\n",
       "    </tr>\n",
       "    <tr>\n",
       "      <th>44</th>\n",
       "      <td>312</td>\n",
       "      <td>80</td>\n",
       "      <td>1</td>\n",
       "      <td>0</td>\n",
       "      <td>1</td>\n",
       "      <td>0</td>\n",
       "    </tr>\n",
       "  </tbody>\n",
       "</table>\n",
       "</div>"
      ],
      "text/plain": [
       "    etudiant_id  note  attestation  horaire_A des moments tres variables  \\\n",
       "12          256    89            1                                     0   \n",
       "22          274    88            1                                     0   \n",
       "32          289    85            1                                     0   \n",
       "36          296    87            1                                     0   \n",
       "44          312    80            1                                     0   \n",
       "\n",
       "    horaire_Plage de temps reservee avec quelques exceptions  \\\n",
       "12                                                         0   \n",
       "22                                                         1   \n",
       "32                                                         1   \n",
       "36                                                         1   \n",
       "44                                                         1   \n",
       "\n",
       "    horaire_Plage de temps strictement reservee  \n",
       "12                                            1  \n",
       "22                                            0  \n",
       "32                                            0  \n",
       "36                                            0  \n",
       "44                                            0  "
      ]
     },
     "execution_count": 24,
     "metadata": {},
     "output_type": "execute_result"
    }
   ],
   "source": [
    "DF_fusion.head()"
   ]
  },
  {
   "cell_type": "code",
   "execution_count": 25,
   "metadata": {},
   "outputs": [],
   "source": [
    "colonnes =['etudiant_id','note','attestation',\n",
    "           'horaire_A des moments tres variables',\n",
    "           'horaire_Plage de temps reservee avec quelques exceptions', \n",
    "           'horaire_Plage de temps strictement reservee'\n",
    "          ]\n",
    "DF_fusion.rename(columns={colonnes[3]:\"+var\",\n",
    "                          colonnes[4]:\"flex\",\n",
    "                          colonnes[5]:\"fixe\",\n",
    "                         },\n",
    "                 inplace=True)"
   ]
  },
  {
   "cell_type": "code",
   "execution_count": 26,
   "metadata": {},
   "outputs": [
    {
     "data": {
      "text/html": [
       "<div>\n",
       "<style scoped>\n",
       "    .dataframe tbody tr th:only-of-type {\n",
       "        vertical-align: middle;\n",
       "    }\n",
       "\n",
       "    .dataframe tbody tr th {\n",
       "        vertical-align: top;\n",
       "    }\n",
       "\n",
       "    .dataframe thead th {\n",
       "        text-align: right;\n",
       "    }\n",
       "</style>\n",
       "<table border=\"1\" class=\"dataframe\">\n",
       "  <thead>\n",
       "    <tr style=\"text-align: right;\">\n",
       "      <th></th>\n",
       "      <th>etudiant_id</th>\n",
       "      <th>note</th>\n",
       "      <th>attestation</th>\n",
       "      <th>+var</th>\n",
       "      <th>flex</th>\n",
       "      <th>fixe</th>\n",
       "    </tr>\n",
       "  </thead>\n",
       "  <tbody>\n",
       "    <tr>\n",
       "      <th>12</th>\n",
       "      <td>256</td>\n",
       "      <td>89</td>\n",
       "      <td>1</td>\n",
       "      <td>0</td>\n",
       "      <td>0</td>\n",
       "      <td>1</td>\n",
       "    </tr>\n",
       "    <tr>\n",
       "      <th>22</th>\n",
       "      <td>274</td>\n",
       "      <td>88</td>\n",
       "      <td>1</td>\n",
       "      <td>0</td>\n",
       "      <td>1</td>\n",
       "      <td>0</td>\n",
       "    </tr>\n",
       "    <tr>\n",
       "      <th>32</th>\n",
       "      <td>289</td>\n",
       "      <td>85</td>\n",
       "      <td>1</td>\n",
       "      <td>0</td>\n",
       "      <td>1</td>\n",
       "      <td>0</td>\n",
       "    </tr>\n",
       "    <tr>\n",
       "      <th>36</th>\n",
       "      <td>296</td>\n",
       "      <td>87</td>\n",
       "      <td>1</td>\n",
       "      <td>0</td>\n",
       "      <td>1</td>\n",
       "      <td>0</td>\n",
       "    </tr>\n",
       "    <tr>\n",
       "      <th>44</th>\n",
       "      <td>312</td>\n",
       "      <td>80</td>\n",
       "      <td>1</td>\n",
       "      <td>0</td>\n",
       "      <td>1</td>\n",
       "      <td>0</td>\n",
       "    </tr>\n",
       "  </tbody>\n",
       "</table>\n",
       "</div>"
      ],
      "text/plain": [
       "    etudiant_id  note  attestation  +var  flex  fixe\n",
       "12          256    89            1     0     0     1\n",
       "22          274    88            1     0     1     0\n",
       "32          289    85            1     0     1     0\n",
       "36          296    87            1     0     1     0\n",
       "44          312    80            1     0     1     0"
      ]
     },
     "execution_count": 26,
     "metadata": {},
     "output_type": "execute_result"
    }
   ],
   "source": [
    "DF_fusion.head()"
   ]
  },
  {
   "cell_type": "code",
   "execution_count": 27,
   "metadata": {},
   "outputs": [],
   "source": [
    "DF_fusion_note = DF_fusion.drop(['etudiant_id','attestation'],axis=1)"
   ]
  },
  {
   "cell_type": "markdown",
   "metadata": {},
   "source": [
    "## Corrélation de la matrice fusionnée "
   ]
  },
  {
   "cell_type": "code",
   "execution_count": 28,
   "metadata": {},
   "outputs": [
    {
     "data": {
      "text/html": [
       "<div>\n",
       "<style scoped>\n",
       "    .dataframe tbody tr th:only-of-type {\n",
       "        vertical-align: middle;\n",
       "    }\n",
       "\n",
       "    .dataframe tbody tr th {\n",
       "        vertical-align: top;\n",
       "    }\n",
       "\n",
       "    .dataframe thead th {\n",
       "        text-align: right;\n",
       "    }\n",
       "</style>\n",
       "<table border=\"1\" class=\"dataframe\">\n",
       "  <thead>\n",
       "    <tr style=\"text-align: right;\">\n",
       "      <th></th>\n",
       "      <th>note</th>\n",
       "      <th>+var</th>\n",
       "      <th>flex</th>\n",
       "      <th>fixe</th>\n",
       "    </tr>\n",
       "  </thead>\n",
       "  <tbody>\n",
       "    <tr>\n",
       "      <th>note</th>\n",
       "      <td>1.000000</td>\n",
       "      <td>-0.044652</td>\n",
       "      <td>0.156732</td>\n",
       "      <td>-0.140671</td>\n",
       "    </tr>\n",
       "    <tr>\n",
       "      <th>+var</th>\n",
       "      <td>-0.044652</td>\n",
       "      <td>1.000000</td>\n",
       "      <td>-0.281511</td>\n",
       "      <td>-0.166993</td>\n",
       "    </tr>\n",
       "    <tr>\n",
       "      <th>flex</th>\n",
       "      <td>0.156732</td>\n",
       "      <td>-0.281511</td>\n",
       "      <td>1.000000</td>\n",
       "      <td>-0.899074</td>\n",
       "    </tr>\n",
       "    <tr>\n",
       "      <th>fixe</th>\n",
       "      <td>-0.140671</td>\n",
       "      <td>-0.166993</td>\n",
       "      <td>-0.899074</td>\n",
       "      <td>1.000000</td>\n",
       "    </tr>\n",
       "  </tbody>\n",
       "</table>\n",
       "</div>"
      ],
      "text/plain": [
       "          note      +var      flex      fixe\n",
       "note  1.000000 -0.044652  0.156732 -0.140671\n",
       "+var -0.044652  1.000000 -0.281511 -0.166993\n",
       "flex  0.156732 -0.281511  1.000000 -0.899074\n",
       "fixe -0.140671 -0.166993 -0.899074  1.000000"
      ]
     },
     "execution_count": 28,
     "metadata": {},
     "output_type": "execute_result"
    }
   ],
   "source": [
    "DF_fusion_note.corr()"
   ]
  },
  {
   "cell_type": "code",
   "execution_count": 29,
   "metadata": {},
   "outputs": [
    {
     "name": "stderr",
     "output_type": "stream",
     "text": [
      "<ipython-input-29-38884823c611>:11: UserWarning: FixedFormatter should only be used together with FixedLocator\n",
      "  ax.set_xticklabels(['']+alpha)\n",
      "<ipython-input-29-38884823c611>:12: UserWarning: FixedFormatter should only be used together with FixedLocator\n",
      "  ax.set_yticklabels(['']+alpha)\n"
     ]
    },
    {
     "data": {
      "image/png": "[encoded data removed]",
      "text/plain": [
       "<Figure size 576x576 with 2 Axes>"
      ]
     },
     "metadata": {
      "needs_background": "light"
     },
     "output_type": "display_data"
    }
   ],
   "source": [
    "import matplotlib.pyplot as plt\n",
    "%matplotlib inline\n",
    "\n",
    "alpha = ['note', '+var', 'flex', 'fixe']\n",
    "\n",
    "fig = plt.figure(figsize=(8,8))\n",
    "ax = fig.add_subplot(111)\n",
    "cax = ax.matshow(DF_fusion_note.corr(), cmap='bwr', interpolation='nearest')\n",
    "fig.colorbar(cax)\n",
    "\n",
    "ax.set_xticklabels(['']+alpha)\n",
    "ax.set_yticklabels(['']+alpha)\n",
    "\n",
    "plt.show()"
   ]
  },
  {
   "cell_type": "markdown",
   "metadata": {},
   "source": [
    "## Utilisation de la bibliothèque scipy"
   ]
  },
  {
   "cell_type": "code",
   "execution_count": 30,
   "metadata": {},
   "outputs": [
    {
     "name": "stdout",
     "output_type": "stream",
     "text": [
      "+var r: -0.044652142622459166 , valeur p: 0.5738175189524354\n",
      "flex r: 0.15673167035237448 , valeur p: 0.04708947831740449\n",
      "fixe r: -0.14067127799208326 , valeur p: 0.07509694872811744\n"
     ]
    }
   ],
   "source": [
    "from scipy import stats\n",
    "\n",
    "notes = DF_fusion_note['note'].values\n",
    "for i, horaire in zip([1,2,3],['+var', 'flex', 'fixe']):\n",
    "    horaire_flexible = DF_fusion_note.iloc[: , [i]].values\n",
    "    # .ravel() return a contiguous flattened array\n",
    "    r, valeur_p = stats.pearsonr(notes.ravel(), horaire_flexible.ravel())\n",
    "    print(horaire,'r:',r, ', valeur p:',valeur_p)"
   ]
  },
  {
   "cell_type": "markdown",
   "metadata": {},
   "source": [
    "### Nous observons une faible corrélation à 0.16 entre la note obtenue et un horaire de travail flexible (flex) avec des plages de temps réservées et quelques exceptions. Par contre on observe une effet quasi nul (-0.04) si l'horaire est très variable (+var) et un léger effet négatif (corrélation négative à -0.14) dans le cas d'un horaire strict (fixe)."
   ]
  },
  {
   "cell_type": "code",
   "execution_count": 31,
   "metadata": {},
   "outputs": [],
   "source": [
    "DF_fusion_attestation = DF_fusion.drop(['etudiant_id','note'],axis=1)"
   ]
  },
  {
   "cell_type": "code",
   "execution_count": 32,
   "metadata": {},
   "outputs": [
    {
     "data": {
      "text/html": [
       "<div>\n",
       "<style scoped>\n",
       "    .dataframe tbody tr th:only-of-type {\n",
       "        vertical-align: middle;\n",
       "    }\n",
       "\n",
       "    .dataframe tbody tr th {\n",
       "        vertical-align: top;\n",
       "    }\n",
       "\n",
       "    .dataframe thead th {\n",
       "        text-align: right;\n",
       "    }\n",
       "</style>\n",
       "<table border=\"1\" class=\"dataframe\">\n",
       "  <thead>\n",
       "    <tr style=\"text-align: right;\">\n",
       "      <th></th>\n",
       "      <th>attestation</th>\n",
       "      <th>+var</th>\n",
       "      <th>flex</th>\n",
       "      <th>fixe</th>\n",
       "    </tr>\n",
       "  </thead>\n",
       "  <tbody>\n",
       "    <tr>\n",
       "      <th>attestation</th>\n",
       "      <td>1.000000</td>\n",
       "      <td>-0.105912</td>\n",
       "      <td>0.108207</td>\n",
       "      <td>-0.062862</td>\n",
       "    </tr>\n",
       "    <tr>\n",
       "      <th>+var</th>\n",
       "      <td>-0.105912</td>\n",
       "      <td>1.000000</td>\n",
       "      <td>-0.281511</td>\n",
       "      <td>-0.166993</td>\n",
       "    </tr>\n",
       "    <tr>\n",
       "      <th>flex</th>\n",
       "      <td>0.108207</td>\n",
       "      <td>-0.281511</td>\n",
       "      <td>1.000000</td>\n",
       "      <td>-0.899074</td>\n",
       "    </tr>\n",
       "    <tr>\n",
       "      <th>fixe</th>\n",
       "      <td>-0.062862</td>\n",
       "      <td>-0.166993</td>\n",
       "      <td>-0.899074</td>\n",
       "      <td>1.000000</td>\n",
       "    </tr>\n",
       "  </tbody>\n",
       "</table>\n",
       "</div>"
      ],
      "text/plain": [
       "             attestation      +var      flex      fixe\n",
       "attestation     1.000000 -0.105912  0.108207 -0.062862\n",
       "+var           -0.105912  1.000000 -0.281511 -0.166993\n",
       "flex            0.108207 -0.281511  1.000000 -0.899074\n",
       "fixe           -0.062862 -0.166993 -0.899074  1.000000"
      ]
     },
     "execution_count": 32,
     "metadata": {},
     "output_type": "execute_result"
    }
   ],
   "source": [
    "DF_fusion_attestation.corr()"
   ]
  },
  {
   "cell_type": "code",
   "execution_count": 33,
   "metadata": {},
   "outputs": [
    {
     "name": "stderr",
     "output_type": "stream",
     "text": [
      "<ipython-input-33-4e5331bfa6af>:11: UserWarning: FixedFormatter should only be used together with FixedLocator\n",
      "  ax.set_xticklabels(['']+alpha)\n",
      "<ipython-input-33-4e5331bfa6af>:12: UserWarning: FixedFormatter should only be used together with FixedLocator\n",
      "  ax.set_yticklabels(['']+alpha)\n"
     ]
    },
    {
     "data": {
      "image/png": "[encoded data removed]",
      "text/plain": [
       "<Figure size 576x576 with 2 Axes>"
      ]
     },
     "metadata": {
      "needs_background": "light"
     },
     "output_type": "display_data"
    }
   ],
   "source": [
    "import matplotlib.pyplot as plt\n",
    "%matplotlib inline\n",
    "\n",
    "alpha = ['att', '+var', 'flex', 'fixe']\n",
    "\n",
    "fig = plt.figure(figsize=(8,8))\n",
    "ax = fig.add_subplot(111)\n",
    "cax = ax.matshow(DF_fusion_attestation.corr(), cmap='bwr', interpolation='nearest')\n",
    "fig.colorbar(cax)\n",
    "\n",
    "ax.set_xticklabels(['']+alpha)\n",
    "ax.set_yticklabels(['']+alpha)\n",
    "\n",
    "plt.show()"
   ]
  },
  {
   "cell_type": "markdown",
   "metadata": {},
   "source": [
    "## Utilisation de la bibliothèque scipy"
   ]
  },
  {
   "cell_type": "code",
   "execution_count": 34,
   "metadata": {},
   "outputs": [
    {
     "name": "stdout",
     "output_type": "stream",
     "text": [
      "+var r: -0.10591226609886824 , valeur p: 0.18116751461877723\n",
      "flex r: 0.10820716519580295 , valeur p: 0.171841021863228\n",
      "fixe r: -0.06286185570937121 , valeur p: 0.42824614431914865\n"
     ]
    }
   ],
   "source": [
    "from scipy import stats\n",
    "\n",
    "notes = DF_fusion_attestation['attestation'].values\n",
    "for i, horaire in zip([1,2,3],['+var', 'flex', 'fixe']):\n",
    "    horaire_flexible = DF_fusion_attestation.iloc[: , [i]].values\n",
    "    # .ravel() return a contiguous flattened array\n",
    "    r, valeur_p = stats.pearsonr(notes.ravel(), horaire_flexible.ravel())\n",
    "    print(horaire,'r:',r, ', valeur p:',valeur_p)"
   ]
  },
  {
   "cell_type": "markdown",
   "metadata": {},
   "source": [
    "### Nous observons une faible corrélation à 0.11 entre l'obtention d'une attestation et un horaire de travail flexible avec des plages de temps réservées et quelques exceptions (flex). Par contre on observe un léger effet négatif (corrélation négative à -0.11) pour un horaire strict (fixe) et une effet presque nul (-0.06) si l'horaire est très variable (+var)."
   ]
  },
  {
   "cell_type": "markdown",
   "metadata": {},
   "source": [
    "## Information mutuelle\n",
    "\n",
    "L'information mutuelle révèle une association, que l'association soit linéaire (ce que mesure la corrélation) ou non, alors que la corrélation peut être nulle et que les variables peuvent encore être stochastiquement dépendantes."
   ]
  },
  {
   "cell_type": "code",
   "execution_count": 88,
   "metadata": {},
   "outputs": [
    {
     "name": "stdout",
     "output_type": "stream",
     "text": [
      "             attestation      +var      flex      fixe\n",
      "attestation     0.159159  0.003653  0.005712  0.001885\n",
      "+var            0.003653  0.197600  0.047828  0.021927\n",
      "flex            0.005712  0.047828  0.671991  0.496319\n",
      "fixe            0.001885  0.021927  0.496319  0.646091\n"
     ]
    }
   ],
   "source": [
    "# Code from: Entropy in machine learning - may 06 2019 - Francesco Gadaleta\n",
    "# https://gist.github.com/rlangone/71d93b68d38a89c6722f414fc96f4792\n",
    "\n",
    "# Import libraries\n",
    "import pandas as pd\n",
    "import numpy as np\n",
    "from scipy.stats import iqr\n",
    "from numpy import histogram2d\n",
    "from sklearn.metrics import mutual_info_score\n",
    "\n",
    "# Define mutual information function\n",
    "def minfo(x, y):\n",
    "    # Compute mutual information between x and y\n",
    "    bins_x = max(2,int(2*iqr(x)*len(x)**-(1/3))) # use Freedman-Diaconis's Rule of thumb\n",
    "    bins_y = max(2,int(2*iqr(y)*len(y)**-(1/3)))\n",
    "    c_xy = histogram2d(x, y, [bins_x,bins_y])[0]\n",
    "    mi = mutual_info_score(None, None, contingency=c_xy)\n",
    "    return mi\n",
    "\n",
    "# Build MI matrix\n",
    "num_features = DF_fusion_attestation.shape[1]\n",
    "MI_matrix = np.zeros((num_features,num_features))\n",
    "for i,col_i in enumerate(DF_fusion_attestation):\n",
    "    for j,col_j in enumerate(DF_fusion_attestation):\n",
    "        MI_matrix[i,j] = minfo(DF_fusion_attestation[col_i],DF_fusion_attestation[col_j])\n",
    "MI_df = pd.DataFrame(MI_matrix,columns = DF_fusion_attestation.columns, index = DF_fusion_attestation.columns)\n",
    "print(MI_df)\n",
    "\n",
    "# Ajustements pour faire ressortir les contrastes\n",
    "MI_df['attestation'][0] = 1.0\n",
    "MI_df['attestation'][1] *= 100\n",
    "MI_df['attestation'][2] *= 100\n",
    "MI_df['attestation'][3] *= 100\n",
    "MI_df['+var'][0] *= 100\n",
    "MI_df['+var'][1] = 1.0\n",
    "MI_df['flex'][0] *= 100\n",
    "MI_df['flex'][2] = 1.0\n",
    "MI_df['fixe'][0] *= 100\n",
    "MI_df['fixe'][3] = 1.0"
   ]
  },
  {
   "cell_type": "code",
   "execution_count": 89,
   "metadata": {},
   "outputs": [
    {
     "data": {
      "image/png": "[encoded data removed]",
      "text/plain": [
       "<Figure size 504x504 with 2 Axes>"
      ]
     },
     "metadata": {
      "needs_background": "light"
     },
     "output_type": "display_data"
    }
   ],
   "source": [
    "import matplotlib.pyplot as plt\n",
    "import matplotlib.ticker as mticker\n",
    "%matplotlib inline\n",
    "import numpy as np\n",
    "\n",
    "# Une rustine un peu compliquée pour faire correspondre 0.0 à la couleur blanche\n",
    "# https://stackoverflow.com/questions/20144529/shifted-colorbar-matplotlib/20146989#20146989\n",
    "from matplotlib.colors import Normalize\n",
    "\n",
    "class MidpointNormalize(Normalize):\n",
    "\n",
    "    def __init__(self, vmin=None, vmax=None, midpoint=None, clip=False):\n",
    "        self.midpoint = midpoint\n",
    "        Normalize.__init__(self, vmin, vmax, clip)\n",
    "\n",
    "    def __call__(self, value, clip=None):\n",
    "        x, y = [self.vmin, self.midpoint, self.vmax], [0, 0.5, 1]\n",
    "        return np.ma.masked_array(np.interp(value, x, y))\n",
    "\n",
    "norm = MidpointNormalize(midpoint=0)\n",
    "    \n",
    "alpha = [\"attestation\",\"+var\",\"flex\",\"fixe\"]\n",
    "\n",
    "fig = plt.figure(figsize=(7,7))\n",
    "ax = fig.add_subplot(111)\n",
    "cax = ax.matshow(MI_df, norm=norm, cmap='bwr', interpolation='nearest')\n",
    "fig.colorbar(cax)\n",
    "\n",
    "# 2 lignes suivantes, une rustine pour éviter un avertissement\n",
    "# UserWarning: FixedFormatter should only be used together with FixedLocator\n",
    "# https://stackoverflow.com/questions/63723514/userwarning-fixedformatter-should-only-be-used-together-with-fixedlocator\n",
    "ticks_loc = ax.get_xticks().tolist()[:-1]\n",
    "ax.xaxis.tick_bottom()\n",
    "ax.xaxis.set_major_locator(mticker.FixedLocator(ticks_loc))\n",
    "# Afficher les noms des attributs selon l'axe horizontal\n",
    "ax.set_xticklabels(['']+alpha,rotation=60)\n",
    "\n",
    "# 2 lignes suivantes, une rustine pour éviter un avertissement (voir plus haut)\n",
    "ticks_loc = ax.get_yticks().tolist()[:-1]\n",
    "ax.yaxis.set_major_locator(mticker.FixedLocator(ticks_loc))\n",
    "# Afficher les noms des attributs selon l'axe vertical\n",
    "ax.set_yticklabels(['']+alpha)\n",
    "\n",
    "plt.title(\"Matrice d'information Mutuelle\",fontsize=20)\n",
    "plt.show()"
   ]
  },
  {
   "cell_type": "markdown",
   "metadata": {},
   "source": [
    "### L'information mutuelle révèle une plus forte association (0.005712) entre l'obtention d'une attestation et un horaire de travail flexible avec des plages de temps réservées et quelques exceptions. L'association est moindre (0.003653) si l'horaire est très variable (+var). L'association la plus faible (0.001885) est avec horaire strict (fixe)."
   ]
  },
  {
   "cell_type": "markdown",
   "metadata": {},
   "source": [
    "# Conclusion\n",
    "\n",
    "Pas vraiment très concluant! En fait, c'est souvent le cas avec des données réelles. C'est pourquoi les exercices académiques sont la plupart du temps réalisés avec des données synthétiques ou des jeux de données dit «académiques» de très bonne qualité.   "
   ]
  },
  {
   "cell_type": "markdown",
   "metadata": {},
   "source": [
    "\n",
    "1) StackOverflow - https://stackoverflow.com\n",
    "\n",
    "2) Pandas -https://pandas.pydata.org/pandas-docs/stable/getting_started/tutorials.html\n",
    "\n",
    "3) Expressions régulières - http://regex101.com/ - https://www.regular-expressions.info/tutorial.html\n",
    "\n",
    "4) Matplotlib - https://matplotlib.org/3.1.1/tutorials/index.html\n",
    "\n",
    "5) Numpy et Scipy - https://docs.scipy.org/doc/numpy/user/quickstart.html"
   ]
  }
 ],
 "metadata": {
  "kernelspec": {
   "display_name": "Python 3",
   "language": "python",
   "name": "python3"
  },
  "language_info": {
   "codemirror_mode": {
    "name": "ipython",
    "version": 3
   },
   "file_extension": ".py",
   "mimetype": "text/x-python",
   "name": "python",
   "nbconvert_exporter": "python",
   "pygments_lexer": "ipython3",
   "version": "3.8.8"
  }
 },
 "nbformat": 4,
 "nbformat_minor": 1
}
